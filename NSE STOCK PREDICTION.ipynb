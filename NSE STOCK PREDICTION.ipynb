{
 "cells": [
  {
   "cell_type": "markdown",
   "id": "ffff810b",
   "metadata": {},
   "source": [
    "## NSE STOCK PREDICTION "
   ]
  },
  {
   "cell_type": "code",
   "execution_count": 237,
   "id": "3a4570d6",
   "metadata": {},
   "outputs": [],
   "source": [
    "import pandas as pd"
   ]
  },
  {
   "cell_type": "code",
   "execution_count": 238,
   "id": "b8ceca57",
   "metadata": {},
   "outputs": [],
   "source": [
    "df=pd.read_csv('NSE Training Data - 1st Jan 2016 to 1st Jan 2022.csv')"
   ]
  },
  {
   "cell_type": "code",
   "execution_count": 239,
   "id": "67ad7f3b",
   "metadata": {},
   "outputs": [
    {
     "data": {
      "text/html": [
       "<div>\n",
       "<style scoped>\n",
       "    .dataframe tbody tr th:only-of-type {\n",
       "        vertical-align: middle;\n",
       "    }\n",
       "\n",
       "    .dataframe tbody tr th {\n",
       "        vertical-align: top;\n",
       "    }\n",
       "\n",
       "    .dataframe thead th {\n",
       "        text-align: right;\n",
       "    }\n",
       "</style>\n",
       "<table border=\"1\" class=\"dataframe\">\n",
       "  <thead>\n",
       "    <tr style=\"text-align: right;\">\n",
       "      <th></th>\n",
       "      <th>Date</th>\n",
       "      <th>Open</th>\n",
       "      <th>High</th>\n",
       "      <th>Low</th>\n",
       "      <th>Close</th>\n",
       "      <th>Adj Close</th>\n",
       "      <th>Volume</th>\n",
       "    </tr>\n",
       "  </thead>\n",
       "  <tbody>\n",
       "    <tr>\n",
       "      <th>0</th>\n",
       "      <td>2016-01-04</td>\n",
       "      <td>7924.549805</td>\n",
       "      <td>7937.549805</td>\n",
       "      <td>7781.100098</td>\n",
       "      <td>7791.299805</td>\n",
       "      <td>7791.299805</td>\n",
       "      <td>134700.0</td>\n",
       "    </tr>\n",
       "    <tr>\n",
       "      <th>1</th>\n",
       "      <td>2016-01-05</td>\n",
       "      <td>7828.399902</td>\n",
       "      <td>7831.200195</td>\n",
       "      <td>7763.250000</td>\n",
       "      <td>7784.649902</td>\n",
       "      <td>7784.649902</td>\n",
       "      <td>145200.0</td>\n",
       "    </tr>\n",
       "    <tr>\n",
       "      <th>2</th>\n",
       "      <td>2016-01-06</td>\n",
       "      <td>7788.049805</td>\n",
       "      <td>7800.950195</td>\n",
       "      <td>7721.200195</td>\n",
       "      <td>7741.000000</td>\n",
       "      <td>7741.000000</td>\n",
       "      <td>147100.0</td>\n",
       "    </tr>\n",
       "    <tr>\n",
       "      <th>3</th>\n",
       "      <td>2016-01-07</td>\n",
       "      <td>7673.350098</td>\n",
       "      <td>7674.950195</td>\n",
       "      <td>7556.600098</td>\n",
       "      <td>7568.299805</td>\n",
       "      <td>7568.299805</td>\n",
       "      <td>188900.0</td>\n",
       "    </tr>\n",
       "    <tr>\n",
       "      <th>4</th>\n",
       "      <td>2016-01-08</td>\n",
       "      <td>7611.649902</td>\n",
       "      <td>7634.100098</td>\n",
       "      <td>7581.049805</td>\n",
       "      <td>7601.350098</td>\n",
       "      <td>7601.350098</td>\n",
       "      <td>157400.0</td>\n",
       "    </tr>\n",
       "  </tbody>\n",
       "</table>\n",
       "</div>"
      ],
      "text/plain": [
       "         Date         Open         High          Low        Close  \\\n",
       "0  2016-01-04  7924.549805  7937.549805  7781.100098  7791.299805   \n",
       "1  2016-01-05  7828.399902  7831.200195  7763.250000  7784.649902   \n",
       "2  2016-01-06  7788.049805  7800.950195  7721.200195  7741.000000   \n",
       "3  2016-01-07  7673.350098  7674.950195  7556.600098  7568.299805   \n",
       "4  2016-01-08  7611.649902  7634.100098  7581.049805  7601.350098   \n",
       "\n",
       "     Adj Close    Volume  \n",
       "0  7791.299805  134700.0  \n",
       "1  7784.649902  145200.0  \n",
       "2  7741.000000  147100.0  \n",
       "3  7568.299805  188900.0  \n",
       "4  7601.350098  157400.0  "
      ]
     },
     "execution_count": 239,
     "metadata": {},
     "output_type": "execute_result"
    }
   ],
   "source": [
    "df.head()"
   ]
  },
  {
   "cell_type": "code",
   "execution_count": 240,
   "id": "7d9aae9e",
   "metadata": {},
   "outputs": [
    {
     "data": {
      "text/plain": [
       "(1481, 7)"
      ]
     },
     "execution_count": 240,
     "metadata": {},
     "output_type": "execute_result"
    }
   ],
   "source": [
    "df.shape"
   ]
  },
  {
   "cell_type": "code",
   "execution_count": 241,
   "id": "39c35ba8",
   "metadata": {},
   "outputs": [],
   "source": [
    "# checking for the null values"
   ]
  },
  {
   "cell_type": "code",
   "execution_count": 242,
   "id": "95f4b4d7",
   "metadata": {},
   "outputs": [
    {
     "data": {
      "text/html": [
       "<div>\n",
       "<style scoped>\n",
       "    .dataframe tbody tr th:only-of-type {\n",
       "        vertical-align: middle;\n",
       "    }\n",
       "\n",
       "    .dataframe tbody tr th {\n",
       "        vertical-align: top;\n",
       "    }\n",
       "\n",
       "    .dataframe thead th {\n",
       "        text-align: right;\n",
       "    }\n",
       "</style>\n",
       "<table border=\"1\" class=\"dataframe\">\n",
       "  <thead>\n",
       "    <tr style=\"text-align: right;\">\n",
       "      <th></th>\n",
       "      <th>Date</th>\n",
       "      <th>Open</th>\n",
       "      <th>High</th>\n",
       "      <th>Low</th>\n",
       "      <th>Close</th>\n",
       "      <th>Adj Close</th>\n",
       "      <th>Volume</th>\n",
       "    </tr>\n",
       "  </thead>\n",
       "  <tbody>\n",
       "    <tr>\n",
       "      <th>151</th>\n",
       "      <td>2016-08-12</td>\n",
       "      <td>NaN</td>\n",
       "      <td>NaN</td>\n",
       "      <td>NaN</td>\n",
       "      <td>NaN</td>\n",
       "      <td>NaN</td>\n",
       "      <td>NaN</td>\n",
       "    </tr>\n",
       "    <tr>\n",
       "      <th>493</th>\n",
       "      <td>2018-01-01</td>\n",
       "      <td>NaN</td>\n",
       "      <td>NaN</td>\n",
       "      <td>NaN</td>\n",
       "      <td>NaN</td>\n",
       "      <td>NaN</td>\n",
       "      <td>NaN</td>\n",
       "    </tr>\n",
       "    <tr>\n",
       "      <th>739</th>\n",
       "      <td>2019-01-01</td>\n",
       "      <td>NaN</td>\n",
       "      <td>NaN</td>\n",
       "      <td>NaN</td>\n",
       "      <td>NaN</td>\n",
       "      <td>NaN</td>\n",
       "      <td>NaN</td>\n",
       "    </tr>\n",
       "    <tr>\n",
       "      <th>937</th>\n",
       "      <td>2019-10-27</td>\n",
       "      <td>NaN</td>\n",
       "      <td>NaN</td>\n",
       "      <td>NaN</td>\n",
       "      <td>NaN</td>\n",
       "      <td>NaN</td>\n",
       "      <td>NaN</td>\n",
       "    </tr>\n",
       "    <tr>\n",
       "      <th>1201</th>\n",
       "      <td>2020-11-14</td>\n",
       "      <td>NaN</td>\n",
       "      <td>NaN</td>\n",
       "      <td>NaN</td>\n",
       "      <td>NaN</td>\n",
       "      <td>NaN</td>\n",
       "      <td>NaN</td>\n",
       "    </tr>\n",
       "    <tr>\n",
       "      <th>1233</th>\n",
       "      <td>2021-01-01</td>\n",
       "      <td>NaN</td>\n",
       "      <td>NaN</td>\n",
       "      <td>NaN</td>\n",
       "      <td>NaN</td>\n",
       "      <td>NaN</td>\n",
       "      <td>NaN</td>\n",
       "    </tr>\n",
       "  </tbody>\n",
       "</table>\n",
       "</div>"
      ],
      "text/plain": [
       "            Date  Open  High  Low  Close  Adj Close  Volume\n",
       "151   2016-08-12   NaN   NaN  NaN    NaN        NaN     NaN\n",
       "493   2018-01-01   NaN   NaN  NaN    NaN        NaN     NaN\n",
       "739   2019-01-01   NaN   NaN  NaN    NaN        NaN     NaN\n",
       "937   2019-10-27   NaN   NaN  NaN    NaN        NaN     NaN\n",
       "1201  2020-11-14   NaN   NaN  NaN    NaN        NaN     NaN\n",
       "1233  2021-01-01   NaN   NaN  NaN    NaN        NaN     NaN"
      ]
     },
     "execution_count": 242,
     "metadata": {},
     "output_type": "execute_result"
    }
   ],
   "source": [
    "df[df['Open'].isnull()]"
   ]
  },
  {
   "cell_type": "markdown",
   "id": "2fb1e39d",
   "metadata": {},
   "source": [
    "###### As its time series data, the flow of the data is very essential(all the ups and downs), and if we replace the null columns with the mean/median, it can change the meaning of data unnecessarily so replacing the previous day's data at the place of null data so that the consistency and flow will be maintained instead of fluctation "
   ]
  },
  {
   "cell_type": "code",
   "execution_count": 243,
   "id": "44957f5d",
   "metadata": {},
   "outputs": [],
   "source": [
    "# taking the index numbers of row with empty column\n",
    "null_index=df[df['Open'].isnull()].index"
   ]
  },
  {
   "cell_type": "code",
   "execution_count": 244,
   "id": "217bdb97",
   "metadata": {},
   "outputs": [
    {
     "data": {
      "text/plain": [
       "Int64Index([151, 493, 739, 937, 1201, 1233], dtype='int64')"
      ]
     },
     "execution_count": 244,
     "metadata": {},
     "output_type": "execute_result"
    }
   ],
   "source": [
    "null_index"
   ]
  },
  {
   "cell_type": "code",
   "execution_count": 245,
   "id": "9fd93a86",
   "metadata": {},
   "outputs": [
    {
     "name": "stdout",
     "output_type": "stream",
     "text": [
      "Date          2016-08-11\n",
      "Open         8572.799805\n",
      "High         8601.150391\n",
      "Low          8540.049805\n",
      "Close        8592.150391\n",
      "Adj Close    8592.150391\n",
      "Volume          189200.0\n",
      "Name: 150, dtype: object\n",
      "**********\n",
      "Date           2017-12-29\n",
      "Open         10492.349609\n",
      "High         10538.700195\n",
      "Low          10488.650391\n",
      "Close        10530.700195\n",
      "Adj Close    10530.700195\n",
      "Volume           152000.0\n",
      "Name: 492, dtype: object\n",
      "**********\n",
      "Date           2018-12-31\n",
      "Open         10913.200195\n",
      "High         10923.549805\n",
      "Low          10853.200195\n",
      "Close        10862.549805\n",
      "Adj Close    10862.549805\n",
      "Volume           180900.0\n",
      "Name: 738, dtype: object\n",
      "**********\n",
      "Date           2019-10-25\n",
      "Open         11646.150391\n",
      "High         11646.900391\n",
      "Low              11490.75\n",
      "Close        11583.900391\n",
      "Adj Close    11583.900391\n",
      "Volume           812000.0\n",
      "Name: 936, dtype: object\n",
      "**********\n",
      "Date           2020-11-13\n",
      "Open         12659.700195\n",
      "High         12735.950195\n",
      "Low          12607.700195\n",
      "Close        12719.950195\n",
      "Adj Close    12719.950195\n",
      "Volume           513900.0\n",
      "Name: 1200, dtype: object\n",
      "**********\n",
      "Date           2020-12-31\n",
      "Open              13970.0\n",
      "High         14024.849609\n",
      "Low          13936.450195\n",
      "Close            13981.75\n",
      "Adj Close        13981.75\n",
      "Volume           452400.0\n",
      "Name: 1232, dtype: object\n",
      "**********\n"
     ]
    }
   ],
   "source": [
    "# replacing the null rows with one day previous record\n",
    "for i in null_index:\n",
    "    p= i-1       # taking the previous record's index in p \n",
    "    print(df.iloc[p,:])\n",
    "    print('**********')\n",
    "    df.iloc[i,:]=df.iloc[p,:]      # assigning the null record with previous day's record"
   ]
  },
  {
   "cell_type": "code",
   "execution_count": 246,
   "id": "1c609573",
   "metadata": {},
   "outputs": [],
   "source": [
    "null_index=df[df['Open'].isnull()].index"
   ]
  },
  {
   "cell_type": "code",
   "execution_count": 247,
   "id": "8f4b5abf",
   "metadata": {},
   "outputs": [
    {
     "data": {
      "text/plain": [
       "Int64Index([], dtype='int64')"
      ]
     },
     "execution_count": 247,
     "metadata": {},
     "output_type": "execute_result"
    }
   ],
   "source": [
    "null_index"
   ]
  },
  {
   "cell_type": "code",
   "execution_count": 248,
   "id": "1f49e4a8",
   "metadata": {},
   "outputs": [
    {
     "data": {
      "text/plain": [
       "(1481, 7)"
      ]
     },
     "execution_count": 248,
     "metadata": {},
     "output_type": "execute_result"
    }
   ],
   "source": [
    "df.shape"
   ]
  },
  {
   "cell_type": "code",
   "execution_count": 249,
   "id": "66788fe2",
   "metadata": {},
   "outputs": [],
   "source": [
    "# for watching the graph of close, so taking close in another dataframe\n",
    "df1=df.reset_index()['Close']"
   ]
  },
  {
   "cell_type": "code",
   "execution_count": 250,
   "id": "57d5544c",
   "metadata": {},
   "outputs": [
    {
     "data": {
      "text/plain": [
       "0    7791.299805\n",
       "1    7784.649902\n",
       "2    7741.000000\n",
       "3    7568.299805\n",
       "4    7601.350098\n",
       "Name: Close, dtype: float64"
      ]
     },
     "execution_count": 250,
     "metadata": {},
     "output_type": "execute_result"
    }
   ],
   "source": [
    "df1.head()"
   ]
  },
  {
   "cell_type": "code",
   "execution_count": 251,
   "id": "dfb0a315",
   "metadata": {},
   "outputs": [
    {
     "data": {
      "text/plain": [
       "[<matplotlib.lines.Line2D at 0x1dd94a6f6a0>]"
      ]
     },
     "execution_count": 251,
     "metadata": {},
     "output_type": "execute_result"
    },
    {
     "data": {
      "image/png": "[encoded data removed]",
      "text/plain": [
       "<Figure size 432x288 with 1 Axes>"
      ]
     },
     "metadata": {
      "needs_background": "light"
     },
     "output_type": "display_data"
    }
   ],
   "source": [
    "# visualizing close column\n",
    "import matplotlib.pyplot as plt\n",
    "plt.plot(df1)"
   ]
  },
  {
   "cell_type": "markdown",
   "id": "3bd433e5",
   "metadata": {},
   "source": [
    "as we can observe that the sale price suddenly fall from 12000 to 8000 on 1000 unit and also boomed up there onwards to 18000 at unit around 1400."
   ]
  },
  {
   "cell_type": "code",
   "execution_count": 252,
   "id": "da1ffe59",
   "metadata": {},
   "outputs": [],
   "source": [
    "### LSTM are sensitive to the scale of the data. so we will transform data between 0 to 1 by  applying MinMax scaler "
   ]
  },
  {
   "cell_type": "code",
   "execution_count": 253,
   "id": "c9df99fd",
   "metadata": {},
   "outputs": [],
   "source": [
    "import numpy as np"
   ]
  },
  {
   "cell_type": "code",
   "execution_count": null,
   "id": "ea744537",
   "metadata": {},
   "outputs": [],
   "source": []
  },
  {
   "cell_type": "code",
   "execution_count": 254,
   "id": "df245e3d",
   "metadata": {},
   "outputs": [],
   "source": [
    "from sklearn.preprocessing import MinMaxScaler\n",
    "scaler=MinMaxScaler(feature_range=(0,1))           # we will here scale between 0 to 1\n",
    "df1=scaler.fit_transform(np.array(df1).reshape(-1,1))"
   ]
  },
  {
   "cell_type": "code",
   "execution_count": 255,
   "id": "35a5ec6d",
   "metadata": {},
   "outputs": [
    {
     "data": {
      "text/plain": [
       "array([[0.07132518],\n",
       "       [0.07074726],\n",
       "       [0.06695374],\n",
       "       ...,\n",
       "       [0.89019627],\n",
       "       [0.88935758],\n",
       "       [0.90240257]])"
      ]
     },
     "execution_count": 255,
     "metadata": {},
     "output_type": "execute_result"
    }
   ],
   "source": [
    "df1"
   ]
  },
  {
   "cell_type": "markdown",
   "id": "8151ea9d",
   "metadata": {},
   "source": [
    " as we need data in sequence so we cannot split train and test data using sklearn's train_test_split, as it randomized the data,\n",
    "so sequentially taking the data "
   ]
  },
  {
   "cell_type": "code",
   "execution_count": 256,
   "id": "0eab91e6",
   "metadata": {},
   "outputs": [],
   "source": [
    "##splitting dataset into train and test split\n",
    "training_size=int(len(df1)*0.70)\n",
    "test_size=len(df1)-training_size\n",
    "train_data,test_data=df1[0:training_size,:],df1[training_size:len(df1),:1]"
   ]
  },
  {
   "cell_type": "code",
   "execution_count": 257,
   "id": "4093b8ff",
   "metadata": {},
   "outputs": [
    {
     "data": {
      "text/plain": [
       "(1036, 445)"
      ]
     },
     "execution_count": 257,
     "metadata": {},
     "output_type": "execute_result"
    }
   ],
   "source": [
    "training_size,test_size"
   ]
  },
  {
   "cell_type": "code",
   "execution_count": null,
   "id": "99b42b52",
   "metadata": {},
   "outputs": [],
   "source": []
  },
  {
   "cell_type": "code",
   "execution_count": 258,
   "id": "e933ab9d",
   "metadata": {},
   "outputs": [],
   "source": [
    "import numpy\n",
    "# convert an array of values into a dataset matrix\n",
    "def generate_dataset(dataset, time_step=1):\n",
    "    dataX, dataY = [], []\n",
    "    for i in range(len(dataset)-time_step-1):\n",
    "        a = dataset[i:(i+time_step), 0]   ###i=0, 0,1,2,3-----99   element\n",
    "        dataX.append(a)   # 100th element \n",
    "        dataY.append(dataset[i + time_step, 0])\n",
    "    return numpy.array(dataX), numpy.array(dataY)"
   ]
  },
  {
   "cell_type": "code",
   "execution_count": 259,
   "id": "eea2ebdc",
   "metadata": {},
   "outputs": [],
   "source": [
    "# reshape into X=t,t+1,t+2,t+3 and Y=t+4\n",
    "time_step = 150\n",
    "X_train, y_train = generate_dataset(train_data, time_step)\n",
    "X_test, ytest = generate_dataset(test_data, time_step)"
   ]
  },
  {
   "cell_type": "code",
   "execution_count": 260,
   "id": "9cb5d9c9",
   "metadata": {},
   "outputs": [
    {
     "name": "stdout",
     "output_type": "stream",
     "text": [
      "[[0.07132518 0.07074726 0.06695374 ... 0.15128466 0.14840805 0.13946088]\n",
      " [0.07074726 0.06695374 0.05194475 ... 0.14840805 0.13946088 0.14092532]\n",
      " [0.06695374 0.05194475 0.05481708 ... 0.13946088 0.14092532 0.14092532]\n",
      " ...\n",
      " [0.34844802 0.34995583 0.33824501 ... 0.30251293 0.30311695 0.22765928]\n",
      " [0.34995583 0.33824501 0.34568869 ... 0.30311695 0.22765928 0.25938495]\n",
      " [0.33824501 0.34568869 0.337628   ... 0.22765928 0.25938495 0.19352625]]\n"
     ]
    }
   ],
   "source": [
    "print(X_train)"
   ]
  },
  {
   "cell_type": "code",
   "execution_count": null,
   "id": "9c0c775c",
   "metadata": {},
   "outputs": [],
   "source": []
  },
  {
   "cell_type": "code",
   "execution_count": 261,
   "id": "c0956789",
   "metadata": {},
   "outputs": [
    {
     "name": "stdout",
     "output_type": "stream",
     "text": [
      "(885, 150)\n",
      "(885,)\n"
     ]
    },
    {
     "data": {
      "text/plain": [
       "(None, None)"
      ]
     },
     "execution_count": 261,
     "metadata": {},
     "output_type": "execute_result"
    }
   ],
   "source": [
    "print(X_train.shape), print(y_train.shape)"
   ]
  },
  {
   "cell_type": "code",
   "execution_count": 262,
   "id": "587f3a8d",
   "metadata": {},
   "outputs": [
    {
     "name": "stdout",
     "output_type": "stream",
     "text": [
      "(294, 150)\n",
      "(294,)\n"
     ]
    },
    {
     "data": {
      "text/plain": [
       "(None, None)"
      ]
     },
     "execution_count": 262,
     "metadata": {},
     "output_type": "execute_result"
    }
   ],
   "source": [
    "print(X_test.shape), print(ytest.shape)"
   ]
  },
  {
   "cell_type": "code",
   "execution_count": 263,
   "id": "032601c3",
   "metadata": {},
   "outputs": [],
   "source": [
    "# reshape input to be [samples, time steps, features] which is required for LSTM\n",
    "X_train =X_train.reshape(X_train.shape[0],X_train.shape[1] , 1)\n",
    "X_test = X_test.reshape(X_test.shape[0],X_test.shape[1] , 1)"
   ]
  },
  {
   "cell_type": "code",
   "execution_count": 264,
   "id": "f30ca574",
   "metadata": {},
   "outputs": [
    {
     "data": {
      "text/plain": [
       "(885, 150, 1)"
      ]
     },
     "execution_count": 264,
     "metadata": {},
     "output_type": "execute_result"
    }
   ],
   "source": [
    "X_train.shape"
   ]
  },
  {
   "cell_type": "code",
   "execution_count": null,
   "id": "3be370f4",
   "metadata": {},
   "outputs": [],
   "source": []
  },
  {
   "cell_type": "code",
   "execution_count": 265,
   "id": "c176fec4",
   "metadata": {},
   "outputs": [],
   "source": [
    "### Create the Stacked LSTM model\n",
    "from tensorflow.keras.models import Sequential\n",
    "from tensorflow.keras.layers import Dense\n",
    "from tensorflow.keras.layers import LSTM"
   ]
  },
  {
   "cell_type": "code",
   "execution_count": 266,
   "id": "4f5b02d9",
   "metadata": {},
   "outputs": [],
   "source": [
    "model=Sequential()\n",
    "model.add(LSTM(50,return_sequences=True,input_shape=(150,1)))\n",
    "model.add(LSTM(50,return_sequences=True))\n",
    "model.add(LSTM(50))\n",
    "model.add(Dropout(0.5))\n",
    "model.add(Dense(1))\n",
    "model.compile(loss='mean_squared_error',optimizer='adam')"
   ]
  },
  {
   "cell_type": "code",
   "execution_count": 267,
   "id": "7b214b48",
   "metadata": {},
   "outputs": [
    {
     "name": "stdout",
     "output_type": "stream",
     "text": [
      "Model: \"sequential_11\"\n",
      "_________________________________________________________________\n",
      " Layer (type)                Output Shape              Param #   \n",
      "=================================================================\n",
      " lstm_33 (LSTM)              (None, 150, 50)           10400     \n",
      "                                                                 \n",
      " lstm_34 (LSTM)              (None, 150, 50)           20200     \n",
      "                                                                 \n",
      " lstm_35 (LSTM)              (None, 50)                20200     \n",
      "                                                                 \n",
      " dropout_3 (Dropout)         (None, 50)                0         \n",
      "                                                                 \n",
      " dense_11 (Dense)            (None, 1)                 51        \n",
      "                                                                 \n",
      "=================================================================\n",
      "Total params: 50,851\n",
      "Trainable params: 50,851\n",
      "Non-trainable params: 0\n",
      "_________________________________________________________________\n"
     ]
    }
   ],
   "source": [
    "model.summary()"
   ]
  },
  {
   "cell_type": "code",
   "execution_count": null,
   "id": "3f1fc09b",
   "metadata": {},
   "outputs": [],
   "source": []
  },
  {
   "cell_type": "code",
   "execution_count": 268,
   "id": "646d137d",
   "metadata": {},
   "outputs": [
    {
     "name": "stdout",
     "output_type": "stream",
     "text": [
      "Epoch 1/100\n",
      "14/14 [==============================] - 33s 644ms/step - loss: 0.0256 - val_loss: 0.1203\n",
      "Epoch 2/100\n",
      "14/14 [==============================] - 7s 517ms/step - loss: 0.0069 - val_loss: 0.0521\n",
      "Epoch 3/100\n",
      "14/14 [==============================] - 7s 483ms/step - loss: 0.0048 - val_loss: 0.0203\n",
      "Epoch 4/100\n",
      "14/14 [==============================] - 7s 518ms/step - loss: 0.0039 - val_loss: 0.0158\n",
      "Epoch 5/100\n",
      "14/14 [==============================] - 7s 496ms/step - loss: 0.0030 - val_loss: 0.0057\n",
      "Epoch 6/100\n",
      "14/14 [==============================] - 7s 475ms/step - loss: 0.0030 - val_loss: 0.0084\n",
      "Epoch 7/100\n",
      "14/14 [==============================] - 7s 496ms/step - loss: 0.0027 - val_loss: 0.0103\n",
      "Epoch 8/100\n",
      "14/14 [==============================] - 7s 470ms/step - loss: 0.0026 - val_loss: 0.0036\n",
      "Epoch 9/100\n",
      "14/14 [==============================] - 7s 494ms/step - loss: 0.0028 - val_loss: 0.0092\n",
      "Epoch 10/100\n",
      "14/14 [==============================] - 7s 468ms/step - loss: 0.0025 - val_loss: 0.0073\n",
      "Epoch 11/100\n",
      "14/14 [==============================] - 7s 476ms/step - loss: 0.0026 - val_loss: 0.0071\n",
      "Epoch 12/100\n",
      "14/14 [==============================] - 7s 479ms/step - loss: 0.0026 - val_loss: 0.0044\n",
      "Epoch 13/100\n",
      "14/14 [==============================] - 6s 458ms/step - loss: 0.0024 - val_loss: 0.0062\n",
      "Epoch 14/100\n",
      "14/14 [==============================] - 7s 494ms/step - loss: 0.0026 - val_loss: 0.0043\n",
      "Epoch 15/100\n",
      "14/14 [==============================] - 7s 469ms/step - loss: 0.0025 - val_loss: 0.0119\n",
      "Epoch 16/100\n",
      "14/14 [==============================] - 7s 482ms/step - loss: 0.0026 - val_loss: 0.0042\n",
      "Epoch 17/100\n",
      "14/14 [==============================] - 7s 474ms/step - loss: 0.0023 - val_loss: 0.0082\n",
      "Epoch 18/100\n",
      "14/14 [==============================] - 6s 462ms/step - loss: 0.0021 - val_loss: 0.0052\n",
      "Epoch 19/100\n",
      "14/14 [==============================] - 7s 500ms/step - loss: 0.0022 - val_loss: 0.0080\n",
      "Epoch 20/100\n",
      "14/14 [==============================] - 7s 474ms/step - loss: 0.0019 - val_loss: 0.0056\n",
      "Epoch 21/100\n",
      "14/14 [==============================] - 7s 492ms/step - loss: 0.0022 - val_loss: 0.0061\n",
      "Epoch 22/100\n",
      "14/14 [==============================] - 7s 471ms/step - loss: 0.0019 - val_loss: 0.0048\n",
      "Epoch 23/100\n",
      "14/14 [==============================] - 7s 478ms/step - loss: 0.0019 - val_loss: 0.0085\n",
      "Epoch 24/100\n",
      "14/14 [==============================] - 7s 503ms/step - loss: 0.0022 - val_loss: 0.0030\n",
      "Epoch 25/100\n",
      "14/14 [==============================] - 7s 466ms/step - loss: 0.0022 - val_loss: 0.0070\n",
      "Epoch 26/100\n",
      "14/14 [==============================] - 7s 505ms/step - loss: 0.0019 - val_loss: 0.0114\n",
      "Epoch 27/100\n",
      "14/14 [==============================] - 7s 475ms/step - loss: 0.0019 - val_loss: 0.0094\n",
      "Epoch 28/100\n",
      "14/14 [==============================] - 7s 506ms/step - loss: 0.0019 - val_loss: 0.0052\n",
      "Epoch 29/100\n",
      "14/14 [==============================] - 7s 482ms/step - loss: 0.0018 - val_loss: 0.0065\n",
      "Epoch 30/100\n",
      "14/14 [==============================] - 7s 472ms/step - loss: 0.0016 - val_loss: 0.0107\n",
      "Epoch 31/100\n",
      "14/14 [==============================] - 7s 490ms/step - loss: 0.0017 - val_loss: 0.0055\n",
      "Epoch 32/100\n",
      "14/14 [==============================] - 6s 459ms/step - loss: 0.0017 - val_loss: 0.0122\n",
      "Epoch 33/100\n",
      "14/14 [==============================] - 7s 499ms/step - loss: 0.0017 - val_loss: 0.0042\n",
      "Epoch 34/100\n",
      "14/14 [==============================] - 7s 475ms/step - loss: 0.0018 - val_loss: 0.0108\n",
      "Epoch 35/100\n",
      "14/14 [==============================] - 7s 483ms/step - loss: 0.0017 - val_loss: 0.0075\n",
      "Epoch 36/100\n",
      "14/14 [==============================] - 7s 478ms/step - loss: 0.0014 - val_loss: 0.0083\n",
      "Epoch 37/100\n",
      "14/14 [==============================] - 7s 471ms/step - loss: 0.0016 - val_loss: 0.0086\n",
      "Epoch 38/100\n",
      "14/14 [==============================] - 7s 492ms/step - loss: 0.0018 - val_loss: 0.0057\n",
      "Epoch 39/100\n",
      "14/14 [==============================] - 7s 468ms/step - loss: 0.0016 - val_loss: 0.0106\n",
      "Epoch 40/100\n",
      "14/14 [==============================] - 7s 496ms/step - loss: 0.0017 - val_loss: 0.0050\n",
      "Epoch 41/100\n",
      "14/14 [==============================] - 7s 475ms/step - loss: 0.0013 - val_loss: 0.0052\n",
      "Epoch 42/100\n",
      "14/14 [==============================] - 7s 470ms/step - loss: 0.0014 - val_loss: 0.0068\n",
      "Epoch 43/100\n",
      "14/14 [==============================] - 7s 480ms/step - loss: 0.0015 - val_loss: 0.0076\n",
      "Epoch 44/100\n",
      "14/14 [==============================] - 6s 459ms/step - loss: 0.0015 - val_loss: 0.0089\n",
      "Epoch 45/100\n",
      "14/14 [==============================] - 7s 493ms/step - loss: 0.0013 - val_loss: 0.0072\n",
      "Epoch 46/100\n",
      "14/14 [==============================] - 7s 473ms/step - loss: 0.0013 - val_loss: 0.0088\n",
      "Epoch 47/100\n",
      "14/14 [==============================] - 7s 488ms/step - loss: 0.0012 - val_loss: 0.0059\n",
      "Epoch 48/100\n",
      "14/14 [==============================] - 7s 489ms/step - loss: 0.0013 - val_loss: 0.0070\n",
      "Epoch 49/100\n",
      "14/14 [==============================] - 6s 464ms/step - loss: 0.0013 - val_loss: 0.0080\n",
      "Epoch 50/100\n",
      "14/14 [==============================] - 7s 492ms/step - loss: 0.0013 - val_loss: 0.0069\n",
      "Epoch 51/100\n",
      "14/14 [==============================] - 7s 471ms/step - loss: 0.0012 - val_loss: 0.0080\n",
      "Epoch 52/100\n",
      "14/14 [==============================] - 8s 575ms/step - loss: 0.0012 - val_loss: 0.0072\n",
      "Epoch 53/100\n",
      "14/14 [==============================] - 7s 513ms/step - loss: 0.0012 - val_loss: 0.0070\n",
      "Epoch 54/100\n",
      "14/14 [==============================] - 9s 631ms/step - loss: 0.0011 - val_loss: 0.0094\n",
      "Epoch 55/100\n",
      "14/14 [==============================] - 11s 822ms/step - loss: 0.0011 - val_loss: 0.0093\n",
      "Epoch 56/100\n",
      "14/14 [==============================] - 11s 834ms/step - loss: 0.0011 - val_loss: 0.0069\n",
      "Epoch 57/100\n",
      "14/14 [==============================] - 9s 670ms/step - loss: 0.0011 - val_loss: 0.0088\n",
      "Epoch 58/100\n",
      "14/14 [==============================] - 8s 592ms/step - loss: 9.7185e-04 - val_loss: 0.0052\n",
      "Epoch 59/100\n",
      "14/14 [==============================] - 10s 707ms/step - loss: 0.0010 - val_loss: 0.0083\n",
      "Epoch 60/100\n",
      "14/14 [==============================] - 8s 539ms/step - loss: 9.5975e-04 - val_loss: 0.0071\n",
      "Epoch 61/100\n",
      "14/14 [==============================] - 8s 589ms/step - loss: 0.0010 - val_loss: 0.0029\n",
      "Epoch 62/100\n",
      "14/14 [==============================] - 9s 628ms/step - loss: 0.0010 - val_loss: 0.0103\n",
      "Epoch 63/100\n",
      "14/14 [==============================] - 9s 651ms/step - loss: 9.8356e-04 - val_loss: 0.0081\n",
      "Epoch 64/100\n",
      "14/14 [==============================] - 7s 495ms/step - loss: 0.0011 - val_loss: 0.0071\n",
      "Epoch 65/100\n",
      "14/14 [==============================] - 7s 512ms/step - loss: 0.0010 - val_loss: 0.0109\n",
      "Epoch 66/100\n",
      "14/14 [==============================] - 7s 481ms/step - loss: 8.8769e-04 - val_loss: 0.0097\n",
      "Epoch 67/100\n",
      "14/14 [==============================] - 7s 524ms/step - loss: 9.4465e-04 - val_loss: 0.0076\n",
      "Epoch 68/100\n",
      "14/14 [==============================] - 6s 463ms/step - loss: 9.7162e-04 - val_loss: 0.0057\n",
      "Epoch 69/100\n",
      "14/14 [==============================] - 7s 482ms/step - loss: 9.6271e-04 - val_loss: 0.0090\n",
      "Epoch 70/100\n",
      "14/14 [==============================] - 7s 481ms/step - loss: 8.9303e-04 - val_loss: 0.0067\n",
      "Epoch 71/100\n",
      "14/14 [==============================] - 6s 460ms/step - loss: 8.5625e-04 - val_loss: 0.0083\n",
      "Epoch 72/100\n",
      "14/14 [==============================] - 7s 495ms/step - loss: 9.2426e-04 - val_loss: 0.0110\n",
      "Epoch 73/100\n",
      "14/14 [==============================] - 7s 492ms/step - loss: 9.4738e-04 - val_loss: 0.0069\n",
      "Epoch 74/100\n",
      "14/14 [==============================] - 7s 527ms/step - loss: 8.0386e-04 - val_loss: 0.0067\n",
      "Epoch 75/100\n",
      "14/14 [==============================] - 7s 480ms/step - loss: 8.3814e-04 - val_loss: 0.0094\n",
      "Epoch 76/100\n",
      "14/14 [==============================] - 7s 495ms/step - loss: 8.1771e-04 - val_loss: 0.0068\n",
      "Epoch 77/100\n",
      "14/14 [==============================] - 7s 493ms/step - loss: 7.6585e-04 - val_loss: 0.0106\n",
      "Epoch 78/100\n",
      "14/14 [==============================] - 7s 463ms/step - loss: 7.2471e-04 - val_loss: 0.0058\n",
      "Epoch 79/100\n",
      "14/14 [==============================] - 7s 497ms/step - loss: 7.8434e-04 - val_loss: 0.0085\n",
      "Epoch 80/100\n",
      "14/14 [==============================] - 7s 474ms/step - loss: 8.3804e-04 - val_loss: 0.0063\n",
      "Epoch 81/100\n",
      "14/14 [==============================] - 7s 500ms/step - loss: 6.7500e-04 - val_loss: 0.0060\n",
      "Epoch 82/100\n",
      "14/14 [==============================] - 7s 481ms/step - loss: 7.2034e-04 - val_loss: 0.0073\n",
      "Epoch 83/100\n",
      "14/14 [==============================] - 7s 475ms/step - loss: 6.9797e-04 - val_loss: 0.0073\n",
      "Epoch 84/100\n",
      "14/14 [==============================] - 8s 567ms/step - loss: 6.8246e-04 - val_loss: 0.0068\n",
      "Epoch 85/100\n",
      "14/14 [==============================] - 8s 574ms/step - loss: 6.7812e-04 - val_loss: 0.0049\n",
      "Epoch 86/100\n",
      "14/14 [==============================] - 8s 539ms/step - loss: 7.4559e-04 - val_loss: 0.0068\n",
      "Epoch 87/100\n",
      "14/14 [==============================] - 7s 483ms/step - loss: 6.9219e-04 - val_loss: 0.0072\n",
      "Epoch 88/100\n",
      "14/14 [==============================] - 7s 528ms/step - loss: 6.3370e-04 - val_loss: 0.0066\n",
      "Epoch 89/100\n",
      "14/14 [==============================] - 7s 471ms/step - loss: 6.2351e-04 - val_loss: 0.0064\n",
      "Epoch 90/100\n",
      "14/14 [==============================] - 7s 501ms/step - loss: 6.7797e-04 - val_loss: 0.0059\n",
      "Epoch 91/100\n",
      "14/14 [==============================] - 7s 473ms/step - loss: 6.6584e-04 - val_loss: 0.0060\n",
      "Epoch 92/100\n",
      "14/14 [==============================] - 6s 461ms/step - loss: 5.7514e-04 - val_loss: 0.0055\n",
      "Epoch 93/100\n",
      "14/14 [==============================] - 7s 471ms/step - loss: 6.0282e-04 - val_loss: 0.0041\n",
      "Epoch 94/100\n",
      "14/14 [==============================] - 6s 452ms/step - loss: 6.4003e-04 - val_loss: 0.0067\n",
      "Epoch 95/100\n",
      "14/14 [==============================] - 7s 506ms/step - loss: 6.3735e-04 - val_loss: 0.0069\n",
      "Epoch 96/100\n",
      "14/14 [==============================] - 6s 458ms/step - loss: 6.2187e-04 - val_loss: 0.0068\n",
      "Epoch 97/100\n",
      "14/14 [==============================] - 7s 506ms/step - loss: 6.1043e-04 - val_loss: 0.0061\n",
      "Epoch 98/100\n",
      "14/14 [==============================] - 6s 444ms/step - loss: 6.5199e-04 - val_loss: 0.0048\n",
      "Epoch 99/100\n",
      "14/14 [==============================] - 6s 432ms/step - loss: 5.9758e-04 - val_loss: 0.0057\n",
      "Epoch 100/100\n",
      "14/14 [==============================] - 6s 468ms/step - loss: 5.7254e-04 - val_loss: 0.0054\n"
     ]
    },
    {
     "data": {
      "text/plain": [
       "<keras.callbacks.History at 0x1dd94c58400>"
      ]
     },
     "execution_count": 268,
     "metadata": {},
     "output_type": "execute_result"
    }
   ],
   "source": [
    "model.fit(X_train,y_train,validation_data=(X_test,ytest),epochs=100,batch_size=64,verbose=1)"
   ]
  },
  {
   "cell_type": "code",
   "execution_count": 269,
   "id": "ee176fa1",
   "metadata": {},
   "outputs": [],
   "source": [
    "import tensorflow as tf"
   ]
  },
  {
   "cell_type": "code",
   "execution_count": 270,
   "id": "1e99e4fc",
   "metadata": {},
   "outputs": [],
   "source": [
    "### Lets Do the prediction and check performance metrics\n",
    "train_predict=model.predict(X_train)\n",
    "test_predict=model.predict(X_test)"
   ]
  },
  {
   "cell_type": "code",
   "execution_count": 271,
   "id": "4593fcf3",
   "metadata": {},
   "outputs": [],
   "source": [
    "# as we have already scaled the data so we will  Tansform back to original form\n",
    "train_predict=scaler.inverse_transform(train_predict)\n",
    "test_predict=scaler.inverse_transform(test_predict)"
   ]
  },
  {
   "cell_type": "code",
   "execution_count": 272,
   "id": "b9c7b6e0",
   "metadata": {},
   "outputs": [
    {
     "data": {
      "text/plain": [
       "10458.808577157753"
      ]
     },
     "execution_count": 272,
     "metadata": {},
     "output_type": "execute_result"
    }
   ],
   "source": [
    "### Calculate RMSE performance metrics\n",
    "import math\n",
    "from sklearn.metrics import mean_squared_error\n",
    "math.sqrt(mean_squared_error(y_train,train_predict))"
   ]
  },
  {
   "cell_type": "code",
   "execution_count": 273,
   "id": "08eaa1d2",
   "metadata": {},
   "outputs": [
    {
     "data": {
      "text/plain": [
       "14866.519274930642"
      ]
     },
     "execution_count": 273,
     "metadata": {},
     "output_type": "execute_result"
    }
   ],
   "source": [
    "import math\n",
    "### Test Data RMSE\n",
    "math.sqrt(mean_squared_error(ytest,test_predict))"
   ]
  },
  {
   "cell_type": "code",
   "execution_count": 284,
   "id": "3c814fc9",
   "metadata": {},
   "outputs": [
    {
     "data": {
      "image/png": "[encoded data removed]",
      "text/plain": [
       "<Figure size 432x288 with 1 Axes>"
      ]
     },
     "metadata": {
      "needs_background": "light"
     },
     "output_type": "display_data"
    }
   ],
   "source": [
    "### Plotting \n",
    "# shift train predictions for plotting\n",
    "look_back=150\n",
    "trainPredictPlot = numpy.empty_like(df1)\n",
    "trainPredictPlot[:, :] = np.nan\n",
    "trainPredictPlot[look_back:len(train_predict)+look_back, :] = train_predict\n",
    "# shift test predictions for plotting\n",
    "testPredictPlot = numpy.empty_like(df1)\n",
    "testPredictPlot[:, :] = numpy.nan\n",
    "testPredictPlot[len(train_predict)+(look_back*2)+1:len(df1)-1, :] = test_predict\n",
    "# plot baseline and predictions\n",
    "plt.plot(scaler.inverse_transform(df1))\n",
    "plt.plot(trainPredictPlot)\n",
    "plt.plot(testPredictPlot)\n",
    "plt.show()\n"
   ]
  },
  {
   "cell_type": "markdown",
   "id": "4ed634fc",
   "metadata": {},
   "source": [
    "* blue color is the first 100 training data as we have given 99 features at first step and 100th element was the output for it.\n",
    "* Orange color is in combination with blue means the data is trained and tested there of training dataset.\n",
    "* blue color is the again first 100 testing data as we have given 99 features at first step and 100th element was the output for it.\n",
    "* green color is the test_data predicted output,\n"
   ]
  },
  {
   "cell_type": "markdown",
   "id": "2c80c1d6",
   "metadata": {},
   "source": [
    "# Preparing for predicting data for further 30 days"
   ]
  },
  {
   "cell_type": "code",
   "execution_count": 286,
   "id": "57fac289",
   "metadata": {},
   "outputs": [
    {
     "data": {
      "text/plain": [
       "445"
      ]
     },
     "execution_count": 286,
     "metadata": {},
     "output_type": "execute_result"
    }
   ],
   "source": [
    "len(test_data)"
   ]
  },
  {
   "cell_type": "code",
   "execution_count": 287,
   "id": "d2892aea",
   "metadata": {},
   "outputs": [
    {
     "data": {
      "text/plain": [
       "295"
      ]
     },
     "execution_count": 287,
     "metadata": {},
     "output_type": "execute_result"
    }
   ],
   "source": [
    "# as we have taken 150 days before so we will take test data 445-150\n",
    "445-150"
   ]
  },
  {
   "cell_type": "code",
   "execution_count": 288,
   "id": "a5b203f1",
   "metadata": {},
   "outputs": [
    {
     "data": {
      "text/plain": [
       "(1, 150)"
      ]
     },
     "execution_count": 288,
     "metadata": {},
     "output_type": "execute_result"
    }
   ],
   "source": [
    "x_input=test_data[295:].reshape(1,-1)\n",
    "x_input.shape"
   ]
  },
  {
   "cell_type": "code",
   "execution_count": 289,
   "id": "ba9c2714",
   "metadata": {},
   "outputs": [],
   "source": [
    "temp_input=list(x_input)\n",
    "temp_input=temp_input[0].tolist()"
   ]
  },
  {
   "cell_type": "code",
   "execution_count": 290,
   "id": "8d51331e",
   "metadata": {},
   "outputs": [
    {
     "data": {
      "text/plain": [
       "[0.7356786663594304,\n",
       " 0.7484670941773504,\n",
       " 0.7477761603508364,\n",
       " 0.7478935367718724,\n",
       " 0.7578140080922466,\n",
       " 0.7560671958428622,\n",
       " 0.7631415225177476,\n",
       " 0.7621376697817286,\n",
       " 0.7530340805963369,\n",
       " 0.7619334704969332,\n",
       " 0.767286955311413,\n",
       " 0.7683733024695742,\n",
       " 0.77336184260079,\n",
       " 0.764523305174974,\n",
       " 0.7579053292154103,\n",
       " 0.7572056536836762,\n",
       " 0.762693913507646,\n",
       " 0.7649752425397849,\n",
       " 0.7575185725931814,\n",
       " 0.7665135270627568,\n",
       " 0.7725883294432401,\n",
       " 0.7686210405495897,\n",
       " 0.7628634006113348,\n",
       " 0.7605212191913235,\n",
       " 0.7569145466262281,\n",
       " 0.7605820715791962,\n",
       " 0.7703287273542645,\n",
       " 0.7689295461954919,\n",
       " 0.7742657174173191,\n",
       " 0.7610774629172412,\n",
       " 0.757766225851211,\n",
       " 0.7580095505807156,\n",
       " 0.7684167563559008,\n",
       " 0.7720321706262161,\n",
       " 0.7781374416550826,\n",
       " 0.7780679324708837,\n",
       " 0.7632067033472374,\n",
       " 0.7527516303352151,\n",
       " 0.7694335943298631,\n",
       " 0.7722146430547561,\n",
       " 0.7694683913329554,\n",
       " 0.7626895850660291,\n",
       " 0.7594696691231624,\n",
       " 0.7654706337909221,\n",
       " 0.7641322201980361,\n",
       " 0.7747437101669101,\n",
       " 0.796088225149524,\n",
       " 0.8072167484907125,\n",
       " 0.8103280297177631,\n",
       " 0.8054264822680939,\n",
       " 0.807168966162769,\n",
       " 0.8090678670142959,\n",
       " 0.8092547527064387,\n",
       " 0.8163942602108136,\n",
       " 0.8307079024048687,\n",
       " 0.8336585231423443,\n",
       " 0.8381385169666917,\n",
       " 0.8341624863678216,\n",
       " 0.8238769854552896,\n",
       " 0.8278703297337198,\n",
       " 0.839007594693221,\n",
       " 0.8398810857702605,\n",
       " 0.8400766282587295,\n",
       " 0.8460123272750133,\n",
       " 0.8656405834786125,\n",
       " 0.8831219461978026,\n",
       " 0.8782595241928433,\n",
       " 0.8919822954756758,\n",
       " 0.8997561277775998,\n",
       " 0.9044666309112968,\n",
       " 0.9031020770247364,\n",
       " 0.9023547041608606,\n",
       " 0.9037235015801439,\n",
       " 0.9025112060266065,\n",
       " 0.9046577601361625,\n",
       " 0.9167769811576392,\n",
       " 0.9263412494130616,\n",
       " 0.9224869236768445,\n",
       " 0.9061265354749357,\n",
       " 0.9204749747589909,\n",
       " 0.9191409744297079,\n",
       " 0.9431534901577951,\n",
       " 0.9457824502805454,\n",
       " 0.9459476089426175,\n",
       " 0.9366919311550834,\n",
       " 0.9334503730910397,\n",
       " 0.9253548801743903,\n",
       " 0.9178721548430069,\n",
       " 0.9317078043743785,\n",
       " 0.943097135855512,\n",
       " 0.9277752276618345,\n",
       " 0.9403203306633421,\n",
       " 0.9494325767319673,\n",
       " 0.9538431461941022,\n",
       " 0.9578409037361357,\n",
       " 0.9725979114075691,\n",
       " 0.987963273487573,\n",
       " 1.0,\n",
       " 0.994933208979365,\n",
       " 0.981710157389287,\n",
       " 0.974018819509505,\n",
       " 0.9685263162397197,\n",
       " 0.9694388478525751,\n",
       " 0.9818666593419403,\n",
       " 0.9768737059471213,\n",
       " 0.9461344946347603,\n",
       " 0.9300044460113206,\n",
       " 0.9524266513557695,\n",
       " 0.9488894031528867,\n",
       " 0.9436966637368758,\n",
       " 0.9513099203712112,\n",
       " 0.9644981748712891,\n",
       " 0.9623862481208532,\n",
       " 0.9600353249956215,\n",
       " 0.9475554027366961,\n",
       " 0.9674703528210478,\n",
       " 0.9680525670228517,\n",
       " 0.9584709850878692,\n",
       " 0.9497325104035295,\n",
       " 0.9380999389279701,\n",
       " 0.9078343071015966,\n",
       " 0.915377799911959,\n",
       " 0.9077039454426175,\n",
       " 0.9182370996131786,\n",
       " 0.8739314492397583,\n",
       " 0.876321412987713,\n",
       " 0.8701726880725202,\n",
       " 0.8861377477647681,\n",
       " 0.9065393473950369,\n",
       " 0.8887274975339148,\n",
       " 0.8640066494777674,\n",
       " 0.8869893420808568,\n",
       " 0.9124577327317605,\n",
       " 0.9165510548427731,\n",
       " 0.9160688185604593,\n",
       " 0.9036365938074908,\n",
       " 0.8998691758439266,\n",
       " 0.8908742213743512,\n",
       " 0.8932207312359797,\n",
       " 0.870346503617826,\n",
       " 0.8381037199635992,\n",
       " 0.8517178564437078,\n",
       " 0.8677609973814022,\n",
       " 0.8779422768417213,\n",
       " 0.871958710675508,\n",
       " 0.8791286019193725,\n",
       " 0.8919040444993491,\n",
       " 0.8901962727857804,\n",
       " 0.8893575788856485,\n",
       " 0.9024025713107904]"
      ]
     },
     "execution_count": 290,
     "metadata": {},
     "output_type": "execute_result"
    }
   ],
   "source": [
    "temp_input"
   ]
  },
  {
   "cell_type": "code",
   "execution_count": 296,
   "id": "0bd1f76f",
   "metadata": {},
   "outputs": [
    {
     "name": "stdout",
     "output_type": "stream",
     "text": [
      "[0.78486353]\n",
      "151\n",
      "1 day input [0.74846709 0.74777616 0.74789354 0.75781401 0.7560672  0.76314152\n",
      " 0.76213767 0.75303408 0.76193347 0.76728696 0.7683733  0.77336184\n",
      " 0.76452331 0.75790533 0.75720565 0.76269391 0.76497524 0.75751857\n",
      " 0.76651353 0.77258833 0.76862104 0.7628634  0.76052122 0.75691455\n",
      " 0.76058207 0.77032873 0.76892955 0.77426572 0.76107746 0.75776623\n",
      " 0.75800955 0.76841676 0.77203217 0.77813744 0.77806793 0.7632067\n",
      " 0.75275163 0.76943359 0.77221464 0.76946839 0.76268959 0.75946967\n",
      " 0.76547063 0.76413222 0.77474371 0.79608823 0.80721675 0.81032803\n",
      " 0.80542648 0.80716897 0.80906787 0.80925475 0.81639426 0.8307079\n",
      " 0.83365852 0.83813852 0.83416249 0.82387699 0.82787033 0.83900759\n",
      " 0.83988109 0.84007663 0.84601233 0.86564058 0.88312195 0.87825952\n",
      " 0.8919823  0.89975613 0.90446663 0.90310208 0.9023547  0.9037235\n",
      " 0.90251121 0.90465776 0.91677698 0.92634125 0.92248692 0.90612654\n",
      " 0.92047497 0.91914097 0.94315349 0.94578245 0.94594761 0.93669193\n",
      " 0.93345037 0.92535488 0.91787215 0.9317078  0.94309714 0.92777523\n",
      " 0.94032033 0.94943258 0.95384315 0.9578409  0.97259791 0.98796327\n",
      " 1.         0.99493321 0.98171016 0.97401882 0.96852632 0.96943885\n",
      " 0.98186666 0.97687371 0.94613449 0.93000445 0.95242665 0.9488894\n",
      " 0.94369666 0.95130992 0.96449817 0.96238625 0.96003532 0.9475554\n",
      " 0.96747035 0.96805257 0.95847099 0.94973251 0.93809994 0.90783431\n",
      " 0.9153778  0.90770395 0.9182371  0.87393145 0.87632141 0.87017269\n",
      " 0.88613775 0.90653935 0.8887275  0.86400665 0.88698934 0.91245773\n",
      " 0.91655105 0.91606882 0.90363659 0.89986918 0.89087422 0.89322073\n",
      " 0.8703465  0.83810372 0.85171786 0.867761   0.87794228 0.87195871\n",
      " 0.8791286  0.89190404 0.89019627 0.88935758 0.90240257 0.78486353]\n",
      "1 day output [[0.7865388]]\n",
      "2 day input [0.74777616 0.74789354 0.75781401 0.7560672  0.76314152 0.76213767\n",
      " 0.75303408 0.76193347 0.76728696 0.7683733  0.77336184 0.76452331\n",
      " 0.75790533 0.75720565 0.76269391 0.76497524 0.75751857 0.76651353\n",
      " 0.77258833 0.76862104 0.7628634  0.76052122 0.75691455 0.76058207\n",
      " 0.77032873 0.76892955 0.77426572 0.76107746 0.75776623 0.75800955\n",
      " 0.76841676 0.77203217 0.77813744 0.77806793 0.7632067  0.75275163\n",
      " 0.76943359 0.77221464 0.76946839 0.76268959 0.75946967 0.76547063\n",
      " 0.76413222 0.77474371 0.79608823 0.80721675 0.81032803 0.80542648\n",
      " 0.80716897 0.80906787 0.80925475 0.81639426 0.8307079  0.83365852\n",
      " 0.83813852 0.83416249 0.82387699 0.82787033 0.83900759 0.83988109\n",
      " 0.84007663 0.84601233 0.86564058 0.88312195 0.87825952 0.8919823\n",
      " 0.89975613 0.90446663 0.90310208 0.9023547  0.9037235  0.90251121\n",
      " 0.90465776 0.91677698 0.92634125 0.92248692 0.90612654 0.92047497\n",
      " 0.91914097 0.94315349 0.94578245 0.94594761 0.93669193 0.93345037\n",
      " 0.92535488 0.91787215 0.9317078  0.94309714 0.92777523 0.94032033\n",
      " 0.94943258 0.95384315 0.9578409  0.97259791 0.98796327 1.\n",
      " 0.99493321 0.98171016 0.97401882 0.96852632 0.96943885 0.98186666\n",
      " 0.97687371 0.94613449 0.93000445 0.95242665 0.9488894  0.94369666\n",
      " 0.95130992 0.96449817 0.96238625 0.96003532 0.9475554  0.96747035\n",
      " 0.96805257 0.95847099 0.94973251 0.93809994 0.90783431 0.9153778\n",
      " 0.90770395 0.9182371  0.87393145 0.87632141 0.87017269 0.88613775\n",
      " 0.90653935 0.8887275  0.86400665 0.88698934 0.91245773 0.91655105\n",
      " 0.91606882 0.90363659 0.89986918 0.89087422 0.89322073 0.8703465\n",
      " 0.83810372 0.85171786 0.867761   0.87794228 0.87195871 0.8791286\n",
      " 0.89190404 0.89019627 0.88935758 0.90240257 0.78486353 0.78653878]\n",
      "2 day output [[0.7786229]]\n",
      "3 day input [0.74789354 0.75781401 0.7560672  0.76314152 0.76213767 0.75303408\n",
      " 0.76193347 0.76728696 0.7683733  0.77336184 0.76452331 0.75790533\n",
      " 0.75720565 0.76269391 0.76497524 0.75751857 0.76651353 0.77258833\n",
      " 0.76862104 0.7628634  0.76052122 0.75691455 0.76058207 0.77032873\n",
      " 0.76892955 0.77426572 0.76107746 0.75776623 0.75800955 0.76841676\n",
      " 0.77203217 0.77813744 0.77806793 0.7632067  0.75275163 0.76943359\n",
      " 0.77221464 0.76946839 0.76268959 0.75946967 0.76547063 0.76413222\n",
      " 0.77474371 0.79608823 0.80721675 0.81032803 0.80542648 0.80716897\n",
      " 0.80906787 0.80925475 0.81639426 0.8307079  0.83365852 0.83813852\n",
      " 0.83416249 0.82387699 0.82787033 0.83900759 0.83988109 0.84007663\n",
      " 0.84601233 0.86564058 0.88312195 0.87825952 0.8919823  0.89975613\n",
      " 0.90446663 0.90310208 0.9023547  0.9037235  0.90251121 0.90465776\n",
      " 0.91677698 0.92634125 0.92248692 0.90612654 0.92047497 0.91914097\n",
      " 0.94315349 0.94578245 0.94594761 0.93669193 0.93345037 0.92535488\n",
      " 0.91787215 0.9317078  0.94309714 0.92777523 0.94032033 0.94943258\n",
      " 0.95384315 0.9578409  0.97259791 0.98796327 1.         0.99493321\n",
      " 0.98171016 0.97401882 0.96852632 0.96943885 0.98186666 0.97687371\n",
      " 0.94613449 0.93000445 0.95242665 0.9488894  0.94369666 0.95130992\n",
      " 0.96449817 0.96238625 0.96003532 0.9475554  0.96747035 0.96805257\n",
      " 0.95847099 0.94973251 0.93809994 0.90783431 0.9153778  0.90770395\n",
      " 0.9182371  0.87393145 0.87632141 0.87017269 0.88613775 0.90653935\n",
      " 0.8887275  0.86400665 0.88698934 0.91245773 0.91655105 0.91606882\n",
      " 0.90363659 0.89986918 0.89087422 0.89322073 0.8703465  0.83810372\n",
      " 0.85171786 0.867761   0.87794228 0.87195871 0.8791286  0.89190404\n",
      " 0.89019627 0.88935758 0.90240257 0.78486353 0.78653878 0.77862293]\n",
      "3 day output [[0.7623972]]\n",
      "4 day input [0.75781401 0.7560672  0.76314152 0.76213767 0.75303408 0.76193347\n",
      " 0.76728696 0.7683733  0.77336184 0.76452331 0.75790533 0.75720565\n",
      " 0.76269391 0.76497524 0.75751857 0.76651353 0.77258833 0.76862104\n",
      " 0.7628634  0.76052122 0.75691455 0.76058207 0.77032873 0.76892955\n",
      " 0.77426572 0.76107746 0.75776623 0.75800955 0.76841676 0.77203217\n",
      " 0.77813744 0.77806793 0.7632067  0.75275163 0.76943359 0.77221464\n",
      " 0.76946839 0.76268959 0.75946967 0.76547063 0.76413222 0.77474371\n",
      " 0.79608823 0.80721675 0.81032803 0.80542648 0.80716897 0.80906787\n",
      " 0.80925475 0.81639426 0.8307079  0.83365852 0.83813852 0.83416249\n",
      " 0.82387699 0.82787033 0.83900759 0.83988109 0.84007663 0.84601233\n",
      " 0.86564058 0.88312195 0.87825952 0.8919823  0.89975613 0.90446663\n",
      " 0.90310208 0.9023547  0.9037235  0.90251121 0.90465776 0.91677698\n",
      " 0.92634125 0.92248692 0.90612654 0.92047497 0.91914097 0.94315349\n",
      " 0.94578245 0.94594761 0.93669193 0.93345037 0.92535488 0.91787215\n",
      " 0.9317078  0.94309714 0.92777523 0.94032033 0.94943258 0.95384315\n",
      " 0.9578409  0.97259791 0.98796327 1.         0.99493321 0.98171016\n",
      " 0.97401882 0.96852632 0.96943885 0.98186666 0.97687371 0.94613449\n",
      " 0.93000445 0.95242665 0.9488894  0.94369666 0.95130992 0.96449817\n",
      " 0.96238625 0.96003532 0.9475554  0.96747035 0.96805257 0.95847099\n",
      " 0.94973251 0.93809994 0.90783431 0.9153778  0.90770395 0.9182371\n",
      " 0.87393145 0.87632141 0.87017269 0.88613775 0.90653935 0.8887275\n",
      " 0.86400665 0.88698934 0.91245773 0.91655105 0.91606882 0.90363659\n",
      " 0.89986918 0.89087422 0.89322073 0.8703465  0.83810372 0.85171786\n",
      " 0.867761   0.87794228 0.87195871 0.8791286  0.89190404 0.89019627\n",
      " 0.88935758 0.90240257 0.78486353 0.78653878 0.77862293 0.76239723]\n",
      "4 day output [[0.7400898]]\n",
      "5 day input [0.7560672  0.76314152 0.76213767 0.75303408 0.76193347 0.76728696\n",
      " 0.7683733  0.77336184 0.76452331 0.75790533 0.75720565 0.76269391\n",
      " 0.76497524 0.75751857 0.76651353 0.77258833 0.76862104 0.7628634\n",
      " 0.76052122 0.75691455 0.76058207 0.77032873 0.76892955 0.77426572\n",
      " 0.76107746 0.75776623 0.75800955 0.76841676 0.77203217 0.77813744\n",
      " 0.77806793 0.7632067  0.75275163 0.76943359 0.77221464 0.76946839\n",
      " 0.76268959 0.75946967 0.76547063 0.76413222 0.77474371 0.79608823\n",
      " 0.80721675 0.81032803 0.80542648 0.80716897 0.80906787 0.80925475\n",
      " 0.81639426 0.8307079  0.83365852 0.83813852 0.83416249 0.82387699\n",
      " 0.82787033 0.83900759 0.83988109 0.84007663 0.84601233 0.86564058\n",
      " 0.88312195 0.87825952 0.8919823  0.89975613 0.90446663 0.90310208\n",
      " 0.9023547  0.9037235  0.90251121 0.90465776 0.91677698 0.92634125\n",
      " 0.92248692 0.90612654 0.92047497 0.91914097 0.94315349 0.94578245\n",
      " 0.94594761 0.93669193 0.93345037 0.92535488 0.91787215 0.9317078\n",
      " 0.94309714 0.92777523 0.94032033 0.94943258 0.95384315 0.9578409\n",
      " 0.97259791 0.98796327 1.         0.99493321 0.98171016 0.97401882\n",
      " 0.96852632 0.96943885 0.98186666 0.97687371 0.94613449 0.93000445\n",
      " 0.95242665 0.9488894  0.94369666 0.95130992 0.96449817 0.96238625\n",
      " 0.96003532 0.9475554  0.96747035 0.96805257 0.95847099 0.94973251\n",
      " 0.93809994 0.90783431 0.9153778  0.90770395 0.9182371  0.87393145\n",
      " 0.87632141 0.87017269 0.88613775 0.90653935 0.8887275  0.86400665\n",
      " 0.88698934 0.91245773 0.91655105 0.91606882 0.90363659 0.89986918\n",
      " 0.89087422 0.89322073 0.8703465  0.83810372 0.85171786 0.867761\n",
      " 0.87794228 0.87195871 0.8791286  0.89190404 0.89019627 0.88935758\n",
      " 0.90240257 0.78486353 0.78653878 0.77862293 0.76239723 0.74008977]\n",
      "5 day output [[0.7138417]]\n",
      "6 day input [0.76314152 0.76213767 0.75303408 0.76193347 0.76728696 0.7683733\n",
      " 0.77336184 0.76452331 0.75790533 0.75720565 0.76269391 0.76497524\n",
      " 0.75751857 0.76651353 0.77258833 0.76862104 0.7628634  0.76052122\n",
      " 0.75691455 0.76058207 0.77032873 0.76892955 0.77426572 0.76107746\n",
      " 0.75776623 0.75800955 0.76841676 0.77203217 0.77813744 0.77806793\n",
      " 0.7632067  0.75275163 0.76943359 0.77221464 0.76946839 0.76268959\n",
      " 0.75946967 0.76547063 0.76413222 0.77474371 0.79608823 0.80721675\n",
      " 0.81032803 0.80542648 0.80716897 0.80906787 0.80925475 0.81639426\n",
      " 0.8307079  0.83365852 0.83813852 0.83416249 0.82387699 0.82787033\n",
      " 0.83900759 0.83988109 0.84007663 0.84601233 0.86564058 0.88312195\n",
      " 0.87825952 0.8919823  0.89975613 0.90446663 0.90310208 0.9023547\n",
      " 0.9037235  0.90251121 0.90465776 0.91677698 0.92634125 0.92248692\n",
      " 0.90612654 0.92047497 0.91914097 0.94315349 0.94578245 0.94594761\n",
      " 0.93669193 0.93345037 0.92535488 0.91787215 0.9317078  0.94309714\n",
      " 0.92777523 0.94032033 0.94943258 0.95384315 0.9578409  0.97259791\n",
      " 0.98796327 1.         0.99493321 0.98171016 0.97401882 0.96852632\n",
      " 0.96943885 0.98186666 0.97687371 0.94613449 0.93000445 0.95242665\n",
      " 0.9488894  0.94369666 0.95130992 0.96449817 0.96238625 0.96003532\n",
      " 0.9475554  0.96747035 0.96805257 0.95847099 0.94973251 0.93809994\n",
      " 0.90783431 0.9153778  0.90770395 0.9182371  0.87393145 0.87632141\n",
      " 0.87017269 0.88613775 0.90653935 0.8887275  0.86400665 0.88698934\n",
      " 0.91245773 0.91655105 0.91606882 0.90363659 0.89986918 0.89087422\n",
      " 0.89322073 0.8703465  0.83810372 0.85171786 0.867761   0.87794228\n",
      " 0.87195871 0.8791286  0.89190404 0.89019627 0.88935758 0.90240257\n",
      " 0.78486353 0.78653878 0.77862293 0.76239723 0.74008977 0.71384168]\n",
      "6 day output [[0.68533075]]\n",
      "7 day input [0.76213767 0.75303408 0.76193347 0.76728696 0.7683733  0.77336184\n",
      " 0.76452331 0.75790533 0.75720565 0.76269391 0.76497524 0.75751857\n",
      " 0.76651353 0.77258833 0.76862104 0.7628634  0.76052122 0.75691455\n",
      " 0.76058207 0.77032873 0.76892955 0.77426572 0.76107746 0.75776623\n",
      " 0.75800955 0.76841676 0.77203217 0.77813744 0.77806793 0.7632067\n",
      " 0.75275163 0.76943359 0.77221464 0.76946839 0.76268959 0.75946967\n",
      " 0.76547063 0.76413222 0.77474371 0.79608823 0.80721675 0.81032803\n",
      " 0.80542648 0.80716897 0.80906787 0.80925475 0.81639426 0.8307079\n",
      " 0.83365852 0.83813852 0.83416249 0.82387699 0.82787033 0.83900759\n",
      " 0.83988109 0.84007663 0.84601233 0.86564058 0.88312195 0.87825952\n",
      " 0.8919823  0.89975613 0.90446663 0.90310208 0.9023547  0.9037235\n",
      " 0.90251121 0.90465776 0.91677698 0.92634125 0.92248692 0.90612654\n",
      " 0.92047497 0.91914097 0.94315349 0.94578245 0.94594761 0.93669193\n",
      " 0.93345037 0.92535488 0.91787215 0.9317078  0.94309714 0.92777523\n",
      " 0.94032033 0.94943258 0.95384315 0.9578409  0.97259791 0.98796327\n",
      " 1.         0.99493321 0.98171016 0.97401882 0.96852632 0.96943885\n",
      " 0.98186666 0.97687371 0.94613449 0.93000445 0.95242665 0.9488894\n",
      " 0.94369666 0.95130992 0.96449817 0.96238625 0.96003532 0.9475554\n",
      " 0.96747035 0.96805257 0.95847099 0.94973251 0.93809994 0.90783431\n",
      " 0.9153778  0.90770395 0.9182371  0.87393145 0.87632141 0.87017269\n",
      " 0.88613775 0.90653935 0.8887275  0.86400665 0.88698934 0.91245773\n",
      " 0.91655105 0.91606882 0.90363659 0.89986918 0.89087422 0.89322073\n",
      " 0.8703465  0.83810372 0.85171786 0.867761   0.87794228 0.87195871\n",
      " 0.8791286  0.89190404 0.89019627 0.88935758 0.90240257 0.78486353\n",
      " 0.78653878 0.77862293 0.76239723 0.74008977 0.71384168 0.68533075]\n",
      "7 day output [[0.65574247]]\n",
      "8 day input [0.75303408 0.76193347 0.76728696 0.7683733  0.77336184 0.76452331\n",
      " 0.75790533 0.75720565 0.76269391 0.76497524 0.75751857 0.76651353\n",
      " 0.77258833 0.76862104 0.7628634  0.76052122 0.75691455 0.76058207\n",
      " 0.77032873 0.76892955 0.77426572 0.76107746 0.75776623 0.75800955\n",
      " 0.76841676 0.77203217 0.77813744 0.77806793 0.7632067  0.75275163\n",
      " 0.76943359 0.77221464 0.76946839 0.76268959 0.75946967 0.76547063\n",
      " 0.76413222 0.77474371 0.79608823 0.80721675 0.81032803 0.80542648\n",
      " 0.80716897 0.80906787 0.80925475 0.81639426 0.8307079  0.83365852\n",
      " 0.83813852 0.83416249 0.82387699 0.82787033 0.83900759 0.83988109\n",
      " 0.84007663 0.84601233 0.86564058 0.88312195 0.87825952 0.8919823\n",
      " 0.89975613 0.90446663 0.90310208 0.9023547  0.9037235  0.90251121\n",
      " 0.90465776 0.91677698 0.92634125 0.92248692 0.90612654 0.92047497\n",
      " 0.91914097 0.94315349 0.94578245 0.94594761 0.93669193 0.93345037\n",
      " 0.92535488 0.91787215 0.9317078  0.94309714 0.92777523 0.94032033\n",
      " 0.94943258 0.95384315 0.9578409  0.97259791 0.98796327 1.\n",
      " 0.99493321 0.98171016 0.97401882 0.96852632 0.96943885 0.98186666\n",
      " 0.97687371 0.94613449 0.93000445 0.95242665 0.9488894  0.94369666\n",
      " 0.95130992 0.96449817 0.96238625 0.96003532 0.9475554  0.96747035\n",
      " 0.96805257 0.95847099 0.94973251 0.93809994 0.90783431 0.9153778\n",
      " 0.90770395 0.9182371  0.87393145 0.87632141 0.87017269 0.88613775\n",
      " 0.90653935 0.8887275  0.86400665 0.88698934 0.91245773 0.91655105\n",
      " 0.91606882 0.90363659 0.89986918 0.89087422 0.89322073 0.8703465\n",
      " 0.83810372 0.85171786 0.867761   0.87794228 0.87195871 0.8791286\n",
      " 0.89190404 0.89019627 0.88935758 0.90240257 0.78486353 0.78653878\n",
      " 0.77862293 0.76239723 0.74008977 0.71384168 0.68533075 0.65574247]\n",
      "8 day output [[0.6258802]]\n",
      "9 day input [0.76193347 0.76728696 0.7683733  0.77336184 0.76452331 0.75790533\n",
      " 0.75720565 0.76269391 0.76497524 0.75751857 0.76651353 0.77258833\n",
      " 0.76862104 0.7628634  0.76052122 0.75691455 0.76058207 0.77032873\n",
      " 0.76892955 0.77426572 0.76107746 0.75776623 0.75800955 0.76841676\n",
      " 0.77203217 0.77813744 0.77806793 0.7632067  0.75275163 0.76943359\n",
      " 0.77221464 0.76946839 0.76268959 0.75946967 0.76547063 0.76413222\n",
      " 0.77474371 0.79608823 0.80721675 0.81032803 0.80542648 0.80716897\n",
      " 0.80906787 0.80925475 0.81639426 0.8307079  0.83365852 0.83813852\n",
      " 0.83416249 0.82387699 0.82787033 0.83900759 0.83988109 0.84007663\n",
      " 0.84601233 0.86564058 0.88312195 0.87825952 0.8919823  0.89975613\n",
      " 0.90446663 0.90310208 0.9023547  0.9037235  0.90251121 0.90465776\n",
      " 0.91677698 0.92634125 0.92248692 0.90612654 0.92047497 0.91914097\n",
      " 0.94315349 0.94578245 0.94594761 0.93669193 0.93345037 0.92535488\n",
      " 0.91787215 0.9317078  0.94309714 0.92777523 0.94032033 0.94943258\n",
      " 0.95384315 0.9578409  0.97259791 0.98796327 1.         0.99493321\n",
      " 0.98171016 0.97401882 0.96852632 0.96943885 0.98186666 0.97687371\n",
      " 0.94613449 0.93000445 0.95242665 0.9488894  0.94369666 0.95130992\n",
      " 0.96449817 0.96238625 0.96003532 0.9475554  0.96747035 0.96805257\n",
      " 0.95847099 0.94973251 0.93809994 0.90783431 0.9153778  0.90770395\n",
      " 0.9182371  0.87393145 0.87632141 0.87017269 0.88613775 0.90653935\n",
      " 0.8887275  0.86400665 0.88698934 0.91245773 0.91655105 0.91606882\n",
      " 0.90363659 0.89986918 0.89087422 0.89322073 0.8703465  0.83810372\n",
      " 0.85171786 0.867761   0.87794228 0.87195871 0.8791286  0.89190404\n",
      " 0.89019627 0.88935758 0.90240257 0.78486353 0.78653878 0.77862293\n",
      " 0.76239723 0.74008977 0.71384168 0.68533075 0.65574247 0.62588018]\n",
      "9 day output [[0.5962945]]\n",
      "10 day input [0.76728696 0.7683733  0.77336184 0.76452331 0.75790533 0.75720565\n",
      " 0.76269391 0.76497524 0.75751857 0.76651353 0.77258833 0.76862104\n",
      " 0.7628634  0.76052122 0.75691455 0.76058207 0.77032873 0.76892955\n",
      " 0.77426572 0.76107746 0.75776623 0.75800955 0.76841676 0.77203217\n",
      " 0.77813744 0.77806793 0.7632067  0.75275163 0.76943359 0.77221464\n",
      " 0.76946839 0.76268959 0.75946967 0.76547063 0.76413222 0.77474371\n",
      " 0.79608823 0.80721675 0.81032803 0.80542648 0.80716897 0.80906787\n",
      " 0.80925475 0.81639426 0.8307079  0.83365852 0.83813852 0.83416249\n",
      " 0.82387699 0.82787033 0.83900759 0.83988109 0.84007663 0.84601233\n",
      " 0.86564058 0.88312195 0.87825952 0.8919823  0.89975613 0.90446663\n",
      " 0.90310208 0.9023547  0.9037235  0.90251121 0.90465776 0.91677698\n",
      " 0.92634125 0.92248692 0.90612654 0.92047497 0.91914097 0.94315349\n",
      " 0.94578245 0.94594761 0.93669193 0.93345037 0.92535488 0.91787215\n",
      " 0.9317078  0.94309714 0.92777523 0.94032033 0.94943258 0.95384315\n",
      " 0.9578409  0.97259791 0.98796327 1.         0.99493321 0.98171016\n",
      " 0.97401882 0.96852632 0.96943885 0.98186666 0.97687371 0.94613449\n",
      " 0.93000445 0.95242665 0.9488894  0.94369666 0.95130992 0.96449817\n",
      " 0.96238625 0.96003532 0.9475554  0.96747035 0.96805257 0.95847099\n",
      " 0.94973251 0.93809994 0.90783431 0.9153778  0.90770395 0.9182371\n",
      " 0.87393145 0.87632141 0.87017269 0.88613775 0.90653935 0.8887275\n",
      " 0.86400665 0.88698934 0.91245773 0.91655105 0.91606882 0.90363659\n",
      " 0.89986918 0.89087422 0.89322073 0.8703465  0.83810372 0.85171786\n",
      " 0.867761   0.87794228 0.87195871 0.8791286  0.89190404 0.89019627\n",
      " 0.88935758 0.90240257 0.78486353 0.78653878 0.77862293 0.76239723\n",
      " 0.74008977 0.71384168 0.68533075 0.65574247 0.62588018 0.59629452]\n",
      "10 day output [[0.5673863]]\n",
      "11 day input [0.7683733  0.77336184 0.76452331 0.75790533 0.75720565 0.76269391\n",
      " 0.76497524 0.75751857 0.76651353 0.77258833 0.76862104 0.7628634\n",
      " 0.76052122 0.75691455 0.76058207 0.77032873 0.76892955 0.77426572\n",
      " 0.76107746 0.75776623 0.75800955 0.76841676 0.77203217 0.77813744\n",
      " 0.77806793 0.7632067  0.75275163 0.76943359 0.77221464 0.76946839\n",
      " 0.76268959 0.75946967 0.76547063 0.76413222 0.77474371 0.79608823\n",
      " 0.80721675 0.81032803 0.80542648 0.80716897 0.80906787 0.80925475\n",
      " 0.81639426 0.8307079  0.83365852 0.83813852 0.83416249 0.82387699\n",
      " 0.82787033 0.83900759 0.83988109 0.84007663 0.84601233 0.86564058\n",
      " 0.88312195 0.87825952 0.8919823  0.89975613 0.90446663 0.90310208\n",
      " 0.9023547  0.9037235  0.90251121 0.90465776 0.91677698 0.92634125\n",
      " 0.92248692 0.90612654 0.92047497 0.91914097 0.94315349 0.94578245\n",
      " 0.94594761 0.93669193 0.93345037 0.92535488 0.91787215 0.9317078\n",
      " 0.94309714 0.92777523 0.94032033 0.94943258 0.95384315 0.9578409\n",
      " 0.97259791 0.98796327 1.         0.99493321 0.98171016 0.97401882\n",
      " 0.96852632 0.96943885 0.98186666 0.97687371 0.94613449 0.93000445\n",
      " 0.95242665 0.9488894  0.94369666 0.95130992 0.96449817 0.96238625\n",
      " 0.96003532 0.9475554  0.96747035 0.96805257 0.95847099 0.94973251\n",
      " 0.93809994 0.90783431 0.9153778  0.90770395 0.9182371  0.87393145\n",
      " 0.87632141 0.87017269 0.88613775 0.90653935 0.8887275  0.86400665\n",
      " 0.88698934 0.91245773 0.91655105 0.91606882 0.90363659 0.89986918\n",
      " 0.89087422 0.89322073 0.8703465  0.83810372 0.85171786 0.867761\n",
      " 0.87794228 0.87195871 0.8791286  0.89190404 0.89019627 0.88935758\n",
      " 0.90240257 0.78486353 0.78653878 0.77862293 0.76239723 0.74008977\n",
      " 0.71384168 0.68533075 0.65574247 0.62588018 0.59629452 0.56738633]\n",
      "11 day output [[0.53946894]]\n",
      "12 day input [0.77336184 0.76452331 0.75790533 0.75720565 0.76269391 0.76497524\n",
      " 0.75751857 0.76651353 0.77258833 0.76862104 0.7628634  0.76052122\n",
      " 0.75691455 0.76058207 0.77032873 0.76892955 0.77426572 0.76107746\n",
      " 0.75776623 0.75800955 0.76841676 0.77203217 0.77813744 0.77806793\n",
      " 0.7632067  0.75275163 0.76943359 0.77221464 0.76946839 0.76268959\n",
      " 0.75946967 0.76547063 0.76413222 0.77474371 0.79608823 0.80721675\n",
      " 0.81032803 0.80542648 0.80716897 0.80906787 0.80925475 0.81639426\n",
      " 0.8307079  0.83365852 0.83813852 0.83416249 0.82387699 0.82787033\n",
      " 0.83900759 0.83988109 0.84007663 0.84601233 0.86564058 0.88312195\n",
      " 0.87825952 0.8919823  0.89975613 0.90446663 0.90310208 0.9023547\n",
      " 0.9037235  0.90251121 0.90465776 0.91677698 0.92634125 0.92248692\n",
      " 0.90612654 0.92047497 0.91914097 0.94315349 0.94578245 0.94594761\n",
      " 0.93669193 0.93345037 0.92535488 0.91787215 0.9317078  0.94309714\n",
      " 0.92777523 0.94032033 0.94943258 0.95384315 0.9578409  0.97259791\n",
      " 0.98796327 1.         0.99493321 0.98171016 0.97401882 0.96852632\n",
      " 0.96943885 0.98186666 0.97687371 0.94613449 0.93000445 0.95242665\n",
      " 0.9488894  0.94369666 0.95130992 0.96449817 0.96238625 0.96003532\n",
      " 0.9475554  0.96747035 0.96805257 0.95847099 0.94973251 0.93809994\n",
      " 0.90783431 0.9153778  0.90770395 0.9182371  0.87393145 0.87632141\n",
      " 0.87017269 0.88613775 0.90653935 0.8887275  0.86400665 0.88698934\n",
      " 0.91245773 0.91655105 0.91606882 0.90363659 0.89986918 0.89087422\n",
      " 0.89322073 0.8703465  0.83810372 0.85171786 0.867761   0.87794228\n",
      " 0.87195871 0.8791286  0.89190404 0.89019627 0.88935758 0.90240257\n",
      " 0.78486353 0.78653878 0.77862293 0.76239723 0.74008977 0.71384168\n",
      " 0.68533075 0.65574247 0.62588018 0.59629452 0.56738633 0.53946894]\n",
      "12 day output [[0.51279986]]\n",
      "13 day input [0.76452331 0.75790533 0.75720565 0.76269391 0.76497524 0.75751857\n",
      " 0.76651353 0.77258833 0.76862104 0.7628634  0.76052122 0.75691455\n",
      " 0.76058207 0.77032873 0.76892955 0.77426572 0.76107746 0.75776623\n",
      " 0.75800955 0.76841676 0.77203217 0.77813744 0.77806793 0.7632067\n",
      " 0.75275163 0.76943359 0.77221464 0.76946839 0.76268959 0.75946967\n",
      " 0.76547063 0.76413222 0.77474371 0.79608823 0.80721675 0.81032803\n",
      " 0.80542648 0.80716897 0.80906787 0.80925475 0.81639426 0.8307079\n",
      " 0.83365852 0.83813852 0.83416249 0.82387699 0.82787033 0.83900759\n",
      " 0.83988109 0.84007663 0.84601233 0.86564058 0.88312195 0.87825952\n",
      " 0.8919823  0.89975613 0.90446663 0.90310208 0.9023547  0.9037235\n",
      " 0.90251121 0.90465776 0.91677698 0.92634125 0.92248692 0.90612654\n",
      " 0.92047497 0.91914097 0.94315349 0.94578245 0.94594761 0.93669193\n",
      " 0.93345037 0.92535488 0.91787215 0.9317078  0.94309714 0.92777523\n",
      " 0.94032033 0.94943258 0.95384315 0.9578409  0.97259791 0.98796327\n",
      " 1.         0.99493321 0.98171016 0.97401882 0.96852632 0.96943885\n",
      " 0.98186666 0.97687371 0.94613449 0.93000445 0.95242665 0.9488894\n",
      " 0.94369666 0.95130992 0.96449817 0.96238625 0.96003532 0.9475554\n",
      " 0.96747035 0.96805257 0.95847099 0.94973251 0.93809994 0.90783431\n",
      " 0.9153778  0.90770395 0.9182371  0.87393145 0.87632141 0.87017269\n",
      " 0.88613775 0.90653935 0.8887275  0.86400665 0.88698934 0.91245773\n",
      " 0.91655105 0.91606882 0.90363659 0.89986918 0.89087422 0.89322073\n",
      " 0.8703465  0.83810372 0.85171786 0.867761   0.87794228 0.87195871\n",
      " 0.8791286  0.89190404 0.89019627 0.88935758 0.90240257 0.78486353\n",
      " 0.78653878 0.77862293 0.76239723 0.74008977 0.71384168 0.68533075\n",
      " 0.65574247 0.62588018 0.59629452 0.56738633 0.53946894 0.51279986]\n",
      "13 day output [[0.48759133]]\n",
      "14 day input [0.75790533 0.75720565 0.76269391 0.76497524 0.75751857 0.76651353\n",
      " 0.77258833 0.76862104 0.7628634  0.76052122 0.75691455 0.76058207\n",
      " 0.77032873 0.76892955 0.77426572 0.76107746 0.75776623 0.75800955\n",
      " 0.76841676 0.77203217 0.77813744 0.77806793 0.7632067  0.75275163\n",
      " 0.76943359 0.77221464 0.76946839 0.76268959 0.75946967 0.76547063\n",
      " 0.76413222 0.77474371 0.79608823 0.80721675 0.81032803 0.80542648\n",
      " 0.80716897 0.80906787 0.80925475 0.81639426 0.8307079  0.83365852\n",
      " 0.83813852 0.83416249 0.82387699 0.82787033 0.83900759 0.83988109\n",
      " 0.84007663 0.84601233 0.86564058 0.88312195 0.87825952 0.8919823\n",
      " 0.89975613 0.90446663 0.90310208 0.9023547  0.9037235  0.90251121\n",
      " 0.90465776 0.91677698 0.92634125 0.92248692 0.90612654 0.92047497\n",
      " 0.91914097 0.94315349 0.94578245 0.94594761 0.93669193 0.93345037\n",
      " 0.92535488 0.91787215 0.9317078  0.94309714 0.92777523 0.94032033\n",
      " 0.94943258 0.95384315 0.9578409  0.97259791 0.98796327 1.\n",
      " 0.99493321 0.98171016 0.97401882 0.96852632 0.96943885 0.98186666\n",
      " 0.97687371 0.94613449 0.93000445 0.95242665 0.9488894  0.94369666\n",
      " 0.95130992 0.96449817 0.96238625 0.96003532 0.9475554  0.96747035\n",
      " 0.96805257 0.95847099 0.94973251 0.93809994 0.90783431 0.9153778\n",
      " 0.90770395 0.9182371  0.87393145 0.87632141 0.87017269 0.88613775\n",
      " 0.90653935 0.8887275  0.86400665 0.88698934 0.91245773 0.91655105\n",
      " 0.91606882 0.90363659 0.89986918 0.89087422 0.89322073 0.8703465\n",
      " 0.83810372 0.85171786 0.867761   0.87794228 0.87195871 0.8791286\n",
      " 0.89190404 0.89019627 0.88935758 0.90240257 0.78486353 0.78653878\n",
      " 0.77862293 0.76239723 0.74008977 0.71384168 0.68533075 0.65574247\n",
      " 0.62588018 0.59629452 0.56738633 0.53946894 0.51279986 0.48759133]\n",
      "14 day output [[0.46401128]]\n",
      "15 day input [0.75720565 0.76269391 0.76497524 0.75751857 0.76651353 0.77258833\n",
      " 0.76862104 0.7628634  0.76052122 0.75691455 0.76058207 0.77032873\n",
      " 0.76892955 0.77426572 0.76107746 0.75776623 0.75800955 0.76841676\n",
      " 0.77203217 0.77813744 0.77806793 0.7632067  0.75275163 0.76943359\n",
      " 0.77221464 0.76946839 0.76268959 0.75946967 0.76547063 0.76413222\n",
      " 0.77474371 0.79608823 0.80721675 0.81032803 0.80542648 0.80716897\n",
      " 0.80906787 0.80925475 0.81639426 0.8307079  0.83365852 0.83813852\n",
      " 0.83416249 0.82387699 0.82787033 0.83900759 0.83988109 0.84007663\n",
      " 0.84601233 0.86564058 0.88312195 0.87825952 0.8919823  0.89975613\n",
      " 0.90446663 0.90310208 0.9023547  0.9037235  0.90251121 0.90465776\n",
      " 0.91677698 0.92634125 0.92248692 0.90612654 0.92047497 0.91914097\n",
      " 0.94315349 0.94578245 0.94594761 0.93669193 0.93345037 0.92535488\n",
      " 0.91787215 0.9317078  0.94309714 0.92777523 0.94032033 0.94943258\n",
      " 0.95384315 0.9578409  0.97259791 0.98796327 1.         0.99493321\n",
      " 0.98171016 0.97401882 0.96852632 0.96943885 0.98186666 0.97687371\n",
      " 0.94613449 0.93000445 0.95242665 0.9488894  0.94369666 0.95130992\n",
      " 0.96449817 0.96238625 0.96003532 0.9475554  0.96747035 0.96805257\n",
      " 0.95847099 0.94973251 0.93809994 0.90783431 0.9153778  0.90770395\n",
      " 0.9182371  0.87393145 0.87632141 0.87017269 0.88613775 0.90653935\n",
      " 0.8887275  0.86400665 0.88698934 0.91245773 0.91655105 0.91606882\n",
      " 0.90363659 0.89986918 0.89087422 0.89322073 0.8703465  0.83810372\n",
      " 0.85171786 0.867761   0.87794228 0.87195871 0.8791286  0.89190404\n",
      " 0.89019627 0.88935758 0.90240257 0.78486353 0.78653878 0.77862293\n",
      " 0.76239723 0.74008977 0.71384168 0.68533075 0.65574247 0.62588018\n",
      " 0.59629452 0.56738633 0.53946894 0.51279986 0.48759133 0.46401128]\n",
      "15 day output [[0.44218215]]\n",
      "16 day input [0.76269391 0.76497524 0.75751857 0.76651353 0.77258833 0.76862104\n",
      " 0.7628634  0.76052122 0.75691455 0.76058207 0.77032873 0.76892955\n",
      " 0.77426572 0.76107746 0.75776623 0.75800955 0.76841676 0.77203217\n",
      " 0.77813744 0.77806793 0.7632067  0.75275163 0.76943359 0.77221464\n",
      " 0.76946839 0.76268959 0.75946967 0.76547063 0.76413222 0.77474371\n",
      " 0.79608823 0.80721675 0.81032803 0.80542648 0.80716897 0.80906787\n",
      " 0.80925475 0.81639426 0.8307079  0.83365852 0.83813852 0.83416249\n",
      " 0.82387699 0.82787033 0.83900759 0.83988109 0.84007663 0.84601233\n",
      " 0.86564058 0.88312195 0.87825952 0.8919823  0.89975613 0.90446663\n",
      " 0.90310208 0.9023547  0.9037235  0.90251121 0.90465776 0.91677698\n",
      " 0.92634125 0.92248692 0.90612654 0.92047497 0.91914097 0.94315349\n",
      " 0.94578245 0.94594761 0.93669193 0.93345037 0.92535488 0.91787215\n",
      " 0.9317078  0.94309714 0.92777523 0.94032033 0.94943258 0.95384315\n",
      " 0.9578409  0.97259791 0.98796327 1.         0.99493321 0.98171016\n",
      " 0.97401882 0.96852632 0.96943885 0.98186666 0.97687371 0.94613449\n",
      " 0.93000445 0.95242665 0.9488894  0.94369666 0.95130992 0.96449817\n",
      " 0.96238625 0.96003532 0.9475554  0.96747035 0.96805257 0.95847099\n",
      " 0.94973251 0.93809994 0.90783431 0.9153778  0.90770395 0.9182371\n",
      " 0.87393145 0.87632141 0.87017269 0.88613775 0.90653935 0.8887275\n",
      " 0.86400665 0.88698934 0.91245773 0.91655105 0.91606882 0.90363659\n",
      " 0.89986918 0.89087422 0.89322073 0.8703465  0.83810372 0.85171786\n",
      " 0.867761   0.87794228 0.87195871 0.8791286  0.89190404 0.89019627\n",
      " 0.88935758 0.90240257 0.78486353 0.78653878 0.77862293 0.76239723\n",
      " 0.74008977 0.71384168 0.68533075 0.65574247 0.62588018 0.59629452\n",
      " 0.56738633 0.53946894 0.51279986 0.48759133 0.46401128 0.44218215]\n",
      "16 day output [[0.4221794]]\n",
      "17 day input [0.76497524 0.75751857 0.76651353 0.77258833 0.76862104 0.7628634\n",
      " 0.76052122 0.75691455 0.76058207 0.77032873 0.76892955 0.77426572\n",
      " 0.76107746 0.75776623 0.75800955 0.76841676 0.77203217 0.77813744\n",
      " 0.77806793 0.7632067  0.75275163 0.76943359 0.77221464 0.76946839\n",
      " 0.76268959 0.75946967 0.76547063 0.76413222 0.77474371 0.79608823\n",
      " 0.80721675 0.81032803 0.80542648 0.80716897 0.80906787 0.80925475\n",
      " 0.81639426 0.8307079  0.83365852 0.83813852 0.83416249 0.82387699\n",
      " 0.82787033 0.83900759 0.83988109 0.84007663 0.84601233 0.86564058\n",
      " 0.88312195 0.87825952 0.8919823  0.89975613 0.90446663 0.90310208\n",
      " 0.9023547  0.9037235  0.90251121 0.90465776 0.91677698 0.92634125\n",
      " 0.92248692 0.90612654 0.92047497 0.91914097 0.94315349 0.94578245\n",
      " 0.94594761 0.93669193 0.93345037 0.92535488 0.91787215 0.9317078\n",
      " 0.94309714 0.92777523 0.94032033 0.94943258 0.95384315 0.9578409\n",
      " 0.97259791 0.98796327 1.         0.99493321 0.98171016 0.97401882\n",
      " 0.96852632 0.96943885 0.98186666 0.97687371 0.94613449 0.93000445\n",
      " 0.95242665 0.9488894  0.94369666 0.95130992 0.96449817 0.96238625\n",
      " 0.96003532 0.9475554  0.96747035 0.96805257 0.95847099 0.94973251\n",
      " 0.93809994 0.90783431 0.9153778  0.90770395 0.9182371  0.87393145\n",
      " 0.87632141 0.87017269 0.88613775 0.90653935 0.8887275  0.86400665\n",
      " 0.88698934 0.91245773 0.91655105 0.91606882 0.90363659 0.89986918\n",
      " 0.89087422 0.89322073 0.8703465  0.83810372 0.85171786 0.867761\n",
      " 0.87794228 0.87195871 0.8791286  0.89190404 0.89019627 0.88935758\n",
      " 0.90240257 0.78486353 0.78653878 0.77862293 0.76239723 0.74008977\n",
      " 0.71384168 0.68533075 0.65574247 0.62588018 0.59629452 0.56738633\n",
      " 0.53946894 0.51279986 0.48759133 0.46401128 0.44218215 0.4221794 ]\n",
      "17 day output [[0.40403336]]\n",
      "18 day input [0.75751857 0.76651353 0.77258833 0.76862104 0.7628634  0.76052122\n",
      " 0.75691455 0.76058207 0.77032873 0.76892955 0.77426572 0.76107746\n",
      " 0.75776623 0.75800955 0.76841676 0.77203217 0.77813744 0.77806793\n",
      " 0.7632067  0.75275163 0.76943359 0.77221464 0.76946839 0.76268959\n",
      " 0.75946967 0.76547063 0.76413222 0.77474371 0.79608823 0.80721675\n",
      " 0.81032803 0.80542648 0.80716897 0.80906787 0.80925475 0.81639426\n",
      " 0.8307079  0.83365852 0.83813852 0.83416249 0.82387699 0.82787033\n",
      " 0.83900759 0.83988109 0.84007663 0.84601233 0.86564058 0.88312195\n",
      " 0.87825952 0.8919823  0.89975613 0.90446663 0.90310208 0.9023547\n",
      " 0.9037235  0.90251121 0.90465776 0.91677698 0.92634125 0.92248692\n",
      " 0.90612654 0.92047497 0.91914097 0.94315349 0.94578245 0.94594761\n",
      " 0.93669193 0.93345037 0.92535488 0.91787215 0.9317078  0.94309714\n",
      " 0.92777523 0.94032033 0.94943258 0.95384315 0.9578409  0.97259791\n",
      " 0.98796327 1.         0.99493321 0.98171016 0.97401882 0.96852632\n",
      " 0.96943885 0.98186666 0.97687371 0.94613449 0.93000445 0.95242665\n",
      " 0.9488894  0.94369666 0.95130992 0.96449817 0.96238625 0.96003532\n",
      " 0.9475554  0.96747035 0.96805257 0.95847099 0.94973251 0.93809994\n",
      " 0.90783431 0.9153778  0.90770395 0.9182371  0.87393145 0.87632141\n",
      " 0.87017269 0.88613775 0.90653935 0.8887275  0.86400665 0.88698934\n",
      " 0.91245773 0.91655105 0.91606882 0.90363659 0.89986918 0.89087422\n",
      " 0.89322073 0.8703465  0.83810372 0.85171786 0.867761   0.87794228\n",
      " 0.87195871 0.8791286  0.89190404 0.89019627 0.88935758 0.90240257\n",
      " 0.78486353 0.78653878 0.77862293 0.76239723 0.74008977 0.71384168\n",
      " 0.68533075 0.65574247 0.62588018 0.59629452 0.56738633 0.53946894\n",
      " 0.51279986 0.48759133 0.46401128 0.44218215 0.4221794  0.40403336]\n",
      "18 day output [[0.3877332]]\n",
      "19 day input [0.76651353 0.77258833 0.76862104 0.7628634  0.76052122 0.75691455\n",
      " 0.76058207 0.77032873 0.76892955 0.77426572 0.76107746 0.75776623\n",
      " 0.75800955 0.76841676 0.77203217 0.77813744 0.77806793 0.7632067\n",
      " 0.75275163 0.76943359 0.77221464 0.76946839 0.76268959 0.75946967\n",
      " 0.76547063 0.76413222 0.77474371 0.79608823 0.80721675 0.81032803\n",
      " 0.80542648 0.80716897 0.80906787 0.80925475 0.81639426 0.8307079\n",
      " 0.83365852 0.83813852 0.83416249 0.82387699 0.82787033 0.83900759\n",
      " 0.83988109 0.84007663 0.84601233 0.86564058 0.88312195 0.87825952\n",
      " 0.8919823  0.89975613 0.90446663 0.90310208 0.9023547  0.9037235\n",
      " 0.90251121 0.90465776 0.91677698 0.92634125 0.92248692 0.90612654\n",
      " 0.92047497 0.91914097 0.94315349 0.94578245 0.94594761 0.93669193\n",
      " 0.93345037 0.92535488 0.91787215 0.9317078  0.94309714 0.92777523\n",
      " 0.94032033 0.94943258 0.95384315 0.9578409  0.97259791 0.98796327\n",
      " 1.         0.99493321 0.98171016 0.97401882 0.96852632 0.96943885\n",
      " 0.98186666 0.97687371 0.94613449 0.93000445 0.95242665 0.9488894\n",
      " 0.94369666 0.95130992 0.96449817 0.96238625 0.96003532 0.9475554\n",
      " 0.96747035 0.96805257 0.95847099 0.94973251 0.93809994 0.90783431\n",
      " 0.9153778  0.90770395 0.9182371  0.87393145 0.87632141 0.87017269\n",
      " 0.88613775 0.90653935 0.8887275  0.86400665 0.88698934 0.91245773\n",
      " 0.91655105 0.91606882 0.90363659 0.89986918 0.89087422 0.89322073\n",
      " 0.8703465  0.83810372 0.85171786 0.867761   0.87794228 0.87195871\n",
      " 0.8791286  0.89190404 0.89019627 0.88935758 0.90240257 0.78486353\n",
      " 0.78653878 0.77862293 0.76239723 0.74008977 0.71384168 0.68533075\n",
      " 0.65574247 0.62588018 0.59629452 0.56738633 0.53946894 0.51279986\n",
      " 0.48759133 0.46401128 0.44218215 0.4221794  0.40403336 0.38773319]\n",
      "19 day output [[0.37323216]]\n",
      "20 day input [0.77258833 0.76862104 0.7628634  0.76052122 0.75691455 0.76058207\n",
      " 0.77032873 0.76892955 0.77426572 0.76107746 0.75776623 0.75800955\n",
      " 0.76841676 0.77203217 0.77813744 0.77806793 0.7632067  0.75275163\n",
      " 0.76943359 0.77221464 0.76946839 0.76268959 0.75946967 0.76547063\n",
      " 0.76413222 0.77474371 0.79608823 0.80721675 0.81032803 0.80542648\n",
      " 0.80716897 0.80906787 0.80925475 0.81639426 0.8307079  0.83365852\n",
      " 0.83813852 0.83416249 0.82387699 0.82787033 0.83900759 0.83988109\n",
      " 0.84007663 0.84601233 0.86564058 0.88312195 0.87825952 0.8919823\n",
      " 0.89975613 0.90446663 0.90310208 0.9023547  0.9037235  0.90251121\n",
      " 0.90465776 0.91677698 0.92634125 0.92248692 0.90612654 0.92047497\n",
      " 0.91914097 0.94315349 0.94578245 0.94594761 0.93669193 0.93345037\n",
      " 0.92535488 0.91787215 0.9317078  0.94309714 0.92777523 0.94032033\n",
      " 0.94943258 0.95384315 0.9578409  0.97259791 0.98796327 1.\n",
      " 0.99493321 0.98171016 0.97401882 0.96852632 0.96943885 0.98186666\n",
      " 0.97687371 0.94613449 0.93000445 0.95242665 0.9488894  0.94369666\n",
      " 0.95130992 0.96449817 0.96238625 0.96003532 0.9475554  0.96747035\n",
      " 0.96805257 0.95847099 0.94973251 0.93809994 0.90783431 0.9153778\n",
      " 0.90770395 0.9182371  0.87393145 0.87632141 0.87017269 0.88613775\n",
      " 0.90653935 0.8887275  0.86400665 0.88698934 0.91245773 0.91655105\n",
      " 0.91606882 0.90363659 0.89986918 0.89087422 0.89322073 0.8703465\n",
      " 0.83810372 0.85171786 0.867761   0.87794228 0.87195871 0.8791286\n",
      " 0.89190404 0.89019627 0.88935758 0.90240257 0.78486353 0.78653878\n",
      " 0.77862293 0.76239723 0.74008977 0.71384168 0.68533075 0.65574247\n",
      " 0.62588018 0.59629452 0.56738633 0.53946894 0.51279986 0.48759133\n",
      " 0.46401128 0.44218215 0.4221794  0.40403336 0.38773319 0.37323216]\n",
      "20 day output [[0.36045474]]\n",
      "21 day input [0.76862104 0.7628634  0.76052122 0.75691455 0.76058207 0.77032873\n",
      " 0.76892955 0.77426572 0.76107746 0.75776623 0.75800955 0.76841676\n",
      " 0.77203217 0.77813744 0.77806793 0.7632067  0.75275163 0.76943359\n",
      " 0.77221464 0.76946839 0.76268959 0.75946967 0.76547063 0.76413222\n",
      " 0.77474371 0.79608823 0.80721675 0.81032803 0.80542648 0.80716897\n",
      " 0.80906787 0.80925475 0.81639426 0.8307079  0.83365852 0.83813852\n",
      " 0.83416249 0.82387699 0.82787033 0.83900759 0.83988109 0.84007663\n",
      " 0.84601233 0.86564058 0.88312195 0.87825952 0.8919823  0.89975613\n",
      " 0.90446663 0.90310208 0.9023547  0.9037235  0.90251121 0.90465776\n",
      " 0.91677698 0.92634125 0.92248692 0.90612654 0.92047497 0.91914097\n",
      " 0.94315349 0.94578245 0.94594761 0.93669193 0.93345037 0.92535488\n",
      " 0.91787215 0.9317078  0.94309714 0.92777523 0.94032033 0.94943258\n",
      " 0.95384315 0.9578409  0.97259791 0.98796327 1.         0.99493321\n",
      " 0.98171016 0.97401882 0.96852632 0.96943885 0.98186666 0.97687371\n",
      " 0.94613449 0.93000445 0.95242665 0.9488894  0.94369666 0.95130992\n",
      " 0.96449817 0.96238625 0.96003532 0.9475554  0.96747035 0.96805257\n",
      " 0.95847099 0.94973251 0.93809994 0.90783431 0.9153778  0.90770395\n",
      " 0.9182371  0.87393145 0.87632141 0.87017269 0.88613775 0.90653935\n",
      " 0.8887275  0.86400665 0.88698934 0.91245773 0.91655105 0.91606882\n",
      " 0.90363659 0.89986918 0.89087422 0.89322073 0.8703465  0.83810372\n",
      " 0.85171786 0.867761   0.87794228 0.87195871 0.8791286  0.89190404\n",
      " 0.89019627 0.88935758 0.90240257 0.78486353 0.78653878 0.77862293\n",
      " 0.76239723 0.74008977 0.71384168 0.68533075 0.65574247 0.62588018\n",
      " 0.59629452 0.56738633 0.53946894 0.51279986 0.48759133 0.46401128\n",
      " 0.44218215 0.4221794  0.40403336 0.38773319 0.37323216 0.36045474]\n",
      "21 day output [[0.34930295]]\n",
      "22 day input [0.7628634  0.76052122 0.75691455 0.76058207 0.77032873 0.76892955\n",
      " 0.77426572 0.76107746 0.75776623 0.75800955 0.76841676 0.77203217\n",
      " 0.77813744 0.77806793 0.7632067  0.75275163 0.76943359 0.77221464\n",
      " 0.76946839 0.76268959 0.75946967 0.76547063 0.76413222 0.77474371\n",
      " 0.79608823 0.80721675 0.81032803 0.80542648 0.80716897 0.80906787\n",
      " 0.80925475 0.81639426 0.8307079  0.83365852 0.83813852 0.83416249\n",
      " 0.82387699 0.82787033 0.83900759 0.83988109 0.84007663 0.84601233\n",
      " 0.86564058 0.88312195 0.87825952 0.8919823  0.89975613 0.90446663\n",
      " 0.90310208 0.9023547  0.9037235  0.90251121 0.90465776 0.91677698\n",
      " 0.92634125 0.92248692 0.90612654 0.92047497 0.91914097 0.94315349\n",
      " 0.94578245 0.94594761 0.93669193 0.93345037 0.92535488 0.91787215\n",
      " 0.9317078  0.94309714 0.92777523 0.94032033 0.94943258 0.95384315\n",
      " 0.9578409  0.97259791 0.98796327 1.         0.99493321 0.98171016\n",
      " 0.97401882 0.96852632 0.96943885 0.98186666 0.97687371 0.94613449\n",
      " 0.93000445 0.95242665 0.9488894  0.94369666 0.95130992 0.96449817\n",
      " 0.96238625 0.96003532 0.9475554  0.96747035 0.96805257 0.95847099\n",
      " 0.94973251 0.93809994 0.90783431 0.9153778  0.90770395 0.9182371\n",
      " 0.87393145 0.87632141 0.87017269 0.88613775 0.90653935 0.8887275\n",
      " 0.86400665 0.88698934 0.91245773 0.91655105 0.91606882 0.90363659\n",
      " 0.89986918 0.89087422 0.89322073 0.8703465  0.83810372 0.85171786\n",
      " 0.867761   0.87794228 0.87195871 0.8791286  0.89190404 0.89019627\n",
      " 0.88935758 0.90240257 0.78486353 0.78653878 0.77862293 0.76239723\n",
      " 0.74008977 0.71384168 0.68533075 0.65574247 0.62588018 0.59629452\n",
      " 0.56738633 0.53946894 0.51279986 0.48759133 0.46401128 0.44218215\n",
      " 0.4221794  0.40403336 0.38773319 0.37323216 0.36045474 0.34930295]\n",
      "22 day output [[0.3396629]]\n",
      "23 day input [0.76052122 0.75691455 0.76058207 0.77032873 0.76892955 0.77426572\n",
      " 0.76107746 0.75776623 0.75800955 0.76841676 0.77203217 0.77813744\n",
      " 0.77806793 0.7632067  0.75275163 0.76943359 0.77221464 0.76946839\n",
      " 0.76268959 0.75946967 0.76547063 0.76413222 0.77474371 0.79608823\n",
      " 0.80721675 0.81032803 0.80542648 0.80716897 0.80906787 0.80925475\n",
      " 0.81639426 0.8307079  0.83365852 0.83813852 0.83416249 0.82387699\n",
      " 0.82787033 0.83900759 0.83988109 0.84007663 0.84601233 0.86564058\n",
      " 0.88312195 0.87825952 0.8919823  0.89975613 0.90446663 0.90310208\n",
      " 0.9023547  0.9037235  0.90251121 0.90465776 0.91677698 0.92634125\n",
      " 0.92248692 0.90612654 0.92047497 0.91914097 0.94315349 0.94578245\n",
      " 0.94594761 0.93669193 0.93345037 0.92535488 0.91787215 0.9317078\n",
      " 0.94309714 0.92777523 0.94032033 0.94943258 0.95384315 0.9578409\n",
      " 0.97259791 0.98796327 1.         0.99493321 0.98171016 0.97401882\n",
      " 0.96852632 0.96943885 0.98186666 0.97687371 0.94613449 0.93000445\n",
      " 0.95242665 0.9488894  0.94369666 0.95130992 0.96449817 0.96238625\n",
      " 0.96003532 0.9475554  0.96747035 0.96805257 0.95847099 0.94973251\n",
      " 0.93809994 0.90783431 0.9153778  0.90770395 0.9182371  0.87393145\n",
      " 0.87632141 0.87017269 0.88613775 0.90653935 0.8887275  0.86400665\n",
      " 0.88698934 0.91245773 0.91655105 0.91606882 0.90363659 0.89986918\n",
      " 0.89087422 0.89322073 0.8703465  0.83810372 0.85171786 0.867761\n",
      " 0.87794228 0.87195871 0.8791286  0.89190404 0.89019627 0.88935758\n",
      " 0.90240257 0.78486353 0.78653878 0.77862293 0.76239723 0.74008977\n",
      " 0.71384168 0.68533075 0.65574247 0.62588018 0.59629452 0.56738633\n",
      " 0.53946894 0.51279986 0.48759133 0.46401128 0.44218215 0.4221794\n",
      " 0.40403336 0.38773319 0.37323216 0.36045474 0.34930295 0.33966291]\n",
      "23 day output [[0.33141074]]\n",
      "24 day input [0.75691455 0.76058207 0.77032873 0.76892955 0.77426572 0.76107746\n",
      " 0.75776623 0.75800955 0.76841676 0.77203217 0.77813744 0.77806793\n",
      " 0.7632067  0.75275163 0.76943359 0.77221464 0.76946839 0.76268959\n",
      " 0.75946967 0.76547063 0.76413222 0.77474371 0.79608823 0.80721675\n",
      " 0.81032803 0.80542648 0.80716897 0.80906787 0.80925475 0.81639426\n",
      " 0.8307079  0.83365852 0.83813852 0.83416249 0.82387699 0.82787033\n",
      " 0.83900759 0.83988109 0.84007663 0.84601233 0.86564058 0.88312195\n",
      " 0.87825952 0.8919823  0.89975613 0.90446663 0.90310208 0.9023547\n",
      " 0.9037235  0.90251121 0.90465776 0.91677698 0.92634125 0.92248692\n",
      " 0.90612654 0.92047497 0.91914097 0.94315349 0.94578245 0.94594761\n",
      " 0.93669193 0.93345037 0.92535488 0.91787215 0.9317078  0.94309714\n",
      " 0.92777523 0.94032033 0.94943258 0.95384315 0.9578409  0.97259791\n",
      " 0.98796327 1.         0.99493321 0.98171016 0.97401882 0.96852632\n",
      " 0.96943885 0.98186666 0.97687371 0.94613449 0.93000445 0.95242665\n",
      " 0.9488894  0.94369666 0.95130992 0.96449817 0.96238625 0.96003532\n",
      " 0.9475554  0.96747035 0.96805257 0.95847099 0.94973251 0.93809994\n",
      " 0.90783431 0.9153778  0.90770395 0.9182371  0.87393145 0.87632141\n",
      " 0.87017269 0.88613775 0.90653935 0.8887275  0.86400665 0.88698934\n",
      " 0.91245773 0.91655105 0.91606882 0.90363659 0.89986918 0.89087422\n",
      " 0.89322073 0.8703465  0.83810372 0.85171786 0.867761   0.87794228\n",
      " 0.87195871 0.8791286  0.89190404 0.89019627 0.88935758 0.90240257\n",
      " 0.78486353 0.78653878 0.77862293 0.76239723 0.74008977 0.71384168\n",
      " 0.68533075 0.65574247 0.62588018 0.59629452 0.56738633 0.53946894\n",
      " 0.51279986 0.48759133 0.46401128 0.44218215 0.4221794  0.40403336\n",
      " 0.38773319 0.37323216 0.36045474 0.34930295 0.33966291 0.33141074]\n",
      "24 day output [[0.32441744]]\n",
      "25 day input [0.76058207 0.77032873 0.76892955 0.77426572 0.76107746 0.75776623\n",
      " 0.75800955 0.76841676 0.77203217 0.77813744 0.77806793 0.7632067\n",
      " 0.75275163 0.76943359 0.77221464 0.76946839 0.76268959 0.75946967\n",
      " 0.76547063 0.76413222 0.77474371 0.79608823 0.80721675 0.81032803\n",
      " 0.80542648 0.80716897 0.80906787 0.80925475 0.81639426 0.8307079\n",
      " 0.83365852 0.83813852 0.83416249 0.82387699 0.82787033 0.83900759\n",
      " 0.83988109 0.84007663 0.84601233 0.86564058 0.88312195 0.87825952\n",
      " 0.8919823  0.89975613 0.90446663 0.90310208 0.9023547  0.9037235\n",
      " 0.90251121 0.90465776 0.91677698 0.92634125 0.92248692 0.90612654\n",
      " 0.92047497 0.91914097 0.94315349 0.94578245 0.94594761 0.93669193\n",
      " 0.93345037 0.92535488 0.91787215 0.9317078  0.94309714 0.92777523\n",
      " 0.94032033 0.94943258 0.95384315 0.9578409  0.97259791 0.98796327\n",
      " 1.         0.99493321 0.98171016 0.97401882 0.96852632 0.96943885\n",
      " 0.98186666 0.97687371 0.94613449 0.93000445 0.95242665 0.9488894\n",
      " 0.94369666 0.95130992 0.96449817 0.96238625 0.96003532 0.9475554\n",
      " 0.96747035 0.96805257 0.95847099 0.94973251 0.93809994 0.90783431\n",
      " 0.9153778  0.90770395 0.9182371  0.87393145 0.87632141 0.87017269\n",
      " 0.88613775 0.90653935 0.8887275  0.86400665 0.88698934 0.91245773\n",
      " 0.91655105 0.91606882 0.90363659 0.89986918 0.89087422 0.89322073\n",
      " 0.8703465  0.83810372 0.85171786 0.867761   0.87794228 0.87195871\n",
      " 0.8791286  0.89190404 0.89019627 0.88935758 0.90240257 0.78486353\n",
      " 0.78653878 0.77862293 0.76239723 0.74008977 0.71384168 0.68533075\n",
      " 0.65574247 0.62588018 0.59629452 0.56738633 0.53946894 0.51279986\n",
      " 0.48759133 0.46401128 0.44218215 0.4221794  0.40403336 0.38773319\n",
      " 0.37323216 0.36045474 0.34930295 0.33966291 0.33141074 0.32441744]\n",
      "25 day output [[0.3185531]]\n",
      "26 day input [0.77032873 0.76892955 0.77426572 0.76107746 0.75776623 0.75800955\n",
      " 0.76841676 0.77203217 0.77813744 0.77806793 0.7632067  0.75275163\n",
      " 0.76943359 0.77221464 0.76946839 0.76268959 0.75946967 0.76547063\n",
      " 0.76413222 0.77474371 0.79608823 0.80721675 0.81032803 0.80542648\n",
      " 0.80716897 0.80906787 0.80925475 0.81639426 0.8307079  0.83365852\n",
      " 0.83813852 0.83416249 0.82387699 0.82787033 0.83900759 0.83988109\n",
      " 0.84007663 0.84601233 0.86564058 0.88312195 0.87825952 0.8919823\n",
      " 0.89975613 0.90446663 0.90310208 0.9023547  0.9037235  0.90251121\n",
      " 0.90465776 0.91677698 0.92634125 0.92248692 0.90612654 0.92047497\n",
      " 0.91914097 0.94315349 0.94578245 0.94594761 0.93669193 0.93345037\n",
      " 0.92535488 0.91787215 0.9317078  0.94309714 0.92777523 0.94032033\n",
      " 0.94943258 0.95384315 0.9578409  0.97259791 0.98796327 1.\n",
      " 0.99493321 0.98171016 0.97401882 0.96852632 0.96943885 0.98186666\n",
      " 0.97687371 0.94613449 0.93000445 0.95242665 0.9488894  0.94369666\n",
      " 0.95130992 0.96449817 0.96238625 0.96003532 0.9475554  0.96747035\n",
      " 0.96805257 0.95847099 0.94973251 0.93809994 0.90783431 0.9153778\n",
      " 0.90770395 0.9182371  0.87393145 0.87632141 0.87017269 0.88613775\n",
      " 0.90653935 0.8887275  0.86400665 0.88698934 0.91245773 0.91655105\n",
      " 0.91606882 0.90363659 0.89986918 0.89087422 0.89322073 0.8703465\n",
      " 0.83810372 0.85171786 0.867761   0.87794228 0.87195871 0.8791286\n",
      " 0.89190404 0.89019627 0.88935758 0.90240257 0.78486353 0.78653878\n",
      " 0.77862293 0.76239723 0.74008977 0.71384168 0.68533075 0.65574247\n",
      " 0.62588018 0.59629452 0.56738633 0.53946894 0.51279986 0.48759133\n",
      " 0.46401128 0.44218215 0.4221794  0.40403336 0.38773319 0.37323216\n",
      " 0.36045474 0.34930295 0.33966291 0.33141074 0.32441744 0.31855309]\n",
      "26 day output [[0.31369033]]\n",
      "27 day input [0.76892955 0.77426572 0.76107746 0.75776623 0.75800955 0.76841676\n",
      " 0.77203217 0.77813744 0.77806793 0.7632067  0.75275163 0.76943359\n",
      " 0.77221464 0.76946839 0.76268959 0.75946967 0.76547063 0.76413222\n",
      " 0.77474371 0.79608823 0.80721675 0.81032803 0.80542648 0.80716897\n",
      " 0.80906787 0.80925475 0.81639426 0.8307079  0.83365852 0.83813852\n",
      " 0.83416249 0.82387699 0.82787033 0.83900759 0.83988109 0.84007663\n",
      " 0.84601233 0.86564058 0.88312195 0.87825952 0.8919823  0.89975613\n",
      " 0.90446663 0.90310208 0.9023547  0.9037235  0.90251121 0.90465776\n",
      " 0.91677698 0.92634125 0.92248692 0.90612654 0.92047497 0.91914097\n",
      " 0.94315349 0.94578245 0.94594761 0.93669193 0.93345037 0.92535488\n",
      " 0.91787215 0.9317078  0.94309714 0.92777523 0.94032033 0.94943258\n",
      " 0.95384315 0.9578409  0.97259791 0.98796327 1.         0.99493321\n",
      " 0.98171016 0.97401882 0.96852632 0.96943885 0.98186666 0.97687371\n",
      " 0.94613449 0.93000445 0.95242665 0.9488894  0.94369666 0.95130992\n",
      " 0.96449817 0.96238625 0.96003532 0.9475554  0.96747035 0.96805257\n",
      " 0.95847099 0.94973251 0.93809994 0.90783431 0.9153778  0.90770395\n",
      " 0.9182371  0.87393145 0.87632141 0.87017269 0.88613775 0.90653935\n",
      " 0.8887275  0.86400665 0.88698934 0.91245773 0.91655105 0.91606882\n",
      " 0.90363659 0.89986918 0.89087422 0.89322073 0.8703465  0.83810372\n",
      " 0.85171786 0.867761   0.87794228 0.87195871 0.8791286  0.89190404\n",
      " 0.89019627 0.88935758 0.90240257 0.78486353 0.78653878 0.77862293\n",
      " 0.76239723 0.74008977 0.71384168 0.68533075 0.65574247 0.62588018\n",
      " 0.59629452 0.56738633 0.53946894 0.51279986 0.48759133 0.46401128\n",
      " 0.44218215 0.4221794  0.40403336 0.38773319 0.37323216 0.36045474\n",
      " 0.34930295 0.33966291 0.33141074 0.32441744 0.31855309 0.31369033]\n",
      "27 day output [[0.30970663]]\n",
      "28 day input [0.77426572 0.76107746 0.75776623 0.75800955 0.76841676 0.77203217\n",
      " 0.77813744 0.77806793 0.7632067  0.75275163 0.76943359 0.77221464\n",
      " 0.76946839 0.76268959 0.75946967 0.76547063 0.76413222 0.77474371\n",
      " 0.79608823 0.80721675 0.81032803 0.80542648 0.80716897 0.80906787\n",
      " 0.80925475 0.81639426 0.8307079  0.83365852 0.83813852 0.83416249\n",
      " 0.82387699 0.82787033 0.83900759 0.83988109 0.84007663 0.84601233\n",
      " 0.86564058 0.88312195 0.87825952 0.8919823  0.89975613 0.90446663\n",
      " 0.90310208 0.9023547  0.9037235  0.90251121 0.90465776 0.91677698\n",
      " 0.92634125 0.92248692 0.90612654 0.92047497 0.91914097 0.94315349\n",
      " 0.94578245 0.94594761 0.93669193 0.93345037 0.92535488 0.91787215\n",
      " 0.9317078  0.94309714 0.92777523 0.94032033 0.94943258 0.95384315\n",
      " 0.9578409  0.97259791 0.98796327 1.         0.99493321 0.98171016\n",
      " 0.97401882 0.96852632 0.96943885 0.98186666 0.97687371 0.94613449\n",
      " 0.93000445 0.95242665 0.9488894  0.94369666 0.95130992 0.96449817\n",
      " 0.96238625 0.96003532 0.9475554  0.96747035 0.96805257 0.95847099\n",
      " 0.94973251 0.93809994 0.90783431 0.9153778  0.90770395 0.9182371\n",
      " 0.87393145 0.87632141 0.87017269 0.88613775 0.90653935 0.8887275\n",
      " 0.86400665 0.88698934 0.91245773 0.91655105 0.91606882 0.90363659\n",
      " 0.89986918 0.89087422 0.89322073 0.8703465  0.83810372 0.85171786\n",
      " 0.867761   0.87794228 0.87195871 0.8791286  0.89190404 0.89019627\n",
      " 0.88935758 0.90240257 0.78486353 0.78653878 0.77862293 0.76239723\n",
      " 0.74008977 0.71384168 0.68533075 0.65574247 0.62588018 0.59629452\n",
      " 0.56738633 0.53946894 0.51279986 0.48759133 0.46401128 0.44218215\n",
      " 0.4221794  0.40403336 0.38773319 0.37323216 0.36045474 0.34930295\n",
      " 0.33966291 0.33141074 0.32441744 0.31855309 0.31369033 0.30970663]\n",
      "28 day output [[0.3064865]]\n",
      "29 day input [0.76107746 0.75776623 0.75800955 0.76841676 0.77203217 0.77813744\n",
      " 0.77806793 0.7632067  0.75275163 0.76943359 0.77221464 0.76946839\n",
      " 0.76268959 0.75946967 0.76547063 0.76413222 0.77474371 0.79608823\n",
      " 0.80721675 0.81032803 0.80542648 0.80716897 0.80906787 0.80925475\n",
      " 0.81639426 0.8307079  0.83365852 0.83813852 0.83416249 0.82387699\n",
      " 0.82787033 0.83900759 0.83988109 0.84007663 0.84601233 0.86564058\n",
      " 0.88312195 0.87825952 0.8919823  0.89975613 0.90446663 0.90310208\n",
      " 0.9023547  0.9037235  0.90251121 0.90465776 0.91677698 0.92634125\n",
      " 0.92248692 0.90612654 0.92047497 0.91914097 0.94315349 0.94578245\n",
      " 0.94594761 0.93669193 0.93345037 0.92535488 0.91787215 0.9317078\n",
      " 0.94309714 0.92777523 0.94032033 0.94943258 0.95384315 0.9578409\n",
      " 0.97259791 0.98796327 1.         0.99493321 0.98171016 0.97401882\n",
      " 0.96852632 0.96943885 0.98186666 0.97687371 0.94613449 0.93000445\n",
      " 0.95242665 0.9488894  0.94369666 0.95130992 0.96449817 0.96238625\n",
      " 0.96003532 0.9475554  0.96747035 0.96805257 0.95847099 0.94973251\n",
      " 0.93809994 0.90783431 0.9153778  0.90770395 0.9182371  0.87393145\n",
      " 0.87632141 0.87017269 0.88613775 0.90653935 0.8887275  0.86400665\n",
      " 0.88698934 0.91245773 0.91655105 0.91606882 0.90363659 0.89986918\n",
      " 0.89087422 0.89322073 0.8703465  0.83810372 0.85171786 0.867761\n",
      " 0.87794228 0.87195871 0.8791286  0.89190404 0.89019627 0.88935758\n",
      " 0.90240257 0.78486353 0.78653878 0.77862293 0.76239723 0.74008977\n",
      " 0.71384168 0.68533075 0.65574247 0.62588018 0.59629452 0.56738633\n",
      " 0.53946894 0.51279986 0.48759133 0.46401128 0.44218215 0.4221794\n",
      " 0.40403336 0.38773319 0.37323216 0.36045474 0.34930295 0.33966291\n",
      " 0.33141074 0.32441744 0.31855309 0.31369033 0.30970663 0.30648649]\n",
      "29 day output [[0.30392247]]\n",
      "[[0.7848635315895081], [0.7865387797355652], [0.7786229252815247], [0.7623972296714783], [0.7400897741317749], [0.7138416767120361], [0.6853307485580444], [0.6557424664497375], [0.6258801817893982], [0.5962945222854614], [0.5673863291740417], [0.5394689440727234], [0.512799859046936], [0.48759132623672485], [0.4640112817287445], [0.44218215346336365], [0.4221794009208679], [0.404033362865448], [0.38773319125175476], [0.3732321560382843], [0.3604547381401062], [0.3493029475212097], [0.33966290950775146], [0.3314107358455658], [0.32441744208335876], [0.31855309009552], [0.31369033455848694], [0.3097066283226013], [0.30648648738861084], [0.30392247438430786]]\n"
     ]
    }
   ],
   "source": [
    "# demonstrate prediction for next 30 days\n",
    "from numpy import array\n",
    "\n",
    "lst_output=[]\n",
    "n_steps=150\n",
    "i=0\n",
    "while(i<30):           \n",
    "    if(len(temp_input)>150):\n",
    "        #print(temp_input)\n",
    "        x_input=np.array(temp_input[1:])   # shifting one input to the right\n",
    "        print(\"{} day input {}\".format(i,x_input))\n",
    "        x_input=x_input.reshape(1,-1)\n",
    "        x_input = x_input.reshape((1, n_steps, 1))\n",
    "        #print(x_input)\n",
    "        yhat = model.predict(x_input, verbose=0)\n",
    "        print(\"{} day output {}\".format(i,yhat))\n",
    "        temp_input.extend(yhat[0].tolist())\n",
    "        temp_input=temp_input[1:]\n",
    "        #print(temp_input)\n",
    "        lst_output.extend(yhat.tolist())\n",
    "        i=i+1\n",
    "    else:\n",
    "        x_input = x_input.reshape((1, n_steps,1))       # reshaping \n",
    "        yhat = model.predict(x_input, verbose=0)\n",
    "        print(yhat[0])                                 # adding predi\n",
    "        temp_input.extend(yhat[0].tolist())\n",
    "        print(len(temp_input))\n",
    "        lst_output.extend(yhat.tolist())\n",
    "        i=i+1\n",
    "    \n",
    "\n",
    "print(lst_output)"
   ]
  },
  {
   "cell_type": "code",
   "execution_count": 293,
   "id": "a02bb5a8",
   "metadata": {},
   "outputs": [],
   "source": [
    "new_day=np.arange(1,151)\n",
    "pred_day=np.arange(151,181)  # for 30 days prediction adding 30 to 151"
   ]
  },
  {
   "cell_type": "code",
   "execution_count": 294,
   "id": "e00d7215",
   "metadata": {},
   "outputs": [
    {
     "data": {
      "text/plain": [
       "1481"
      ]
     },
     "execution_count": 294,
     "metadata": {},
     "output_type": "execute_result"
    }
   ],
   "source": [
    "len(df1)"
   ]
  },
  {
   "cell_type": "code",
   "execution_count": null,
   "id": "ea53b445",
   "metadata": {},
   "outputs": [],
   "source": []
  },
  {
   "cell_type": "code",
   "execution_count": 297,
   "id": "f19395e7",
   "metadata": {},
   "outputs": [
    {
     "data": {
      "text/plain": [
       "1331"
      ]
     },
     "execution_count": 297,
     "metadata": {},
     "output_type": "execute_result"
    }
   ],
   "source": [
    " # previous 150 days for future prediction \n",
    "1481-150"
   ]
  },
  {
   "cell_type": "code",
   "execution_count": 298,
   "id": "934476c6",
   "metadata": {},
   "outputs": [
    {
     "data": {
      "text/plain": [
       "[<matplotlib.lines.Line2D at 0x1dd9c5b7760>]"
      ]
     },
     "execution_count": 298,
     "metadata": {},
     "output_type": "execute_result"
    },
    {
     "data": {
      "image/png": "[encoded data removed]",
      "text/plain": [
       "<Figure size 432x288 with 1 Axes>"
      ]
     },
     "metadata": {
      "needs_background": "light"
     },
     "output_type": "display_data"
    }
   ],
   "source": [
    "plt.plot(new_day,scaler.inverse_transform(df1[1331:]))             # previous 150 days for future prediction\n",
    "plt.plot(pred_day,scaler.inverse_transform(lst_output))"
   ]
  },
  {
   "cell_type": "code",
   "execution_count": 299,
   "id": "03d8299d",
   "metadata": {},
   "outputs": [
    {
     "data": {
      "text/plain": [
       "[<matplotlib.lines.Line2D at 0x1dd9c66a430>]"
      ]
     },
     "execution_count": 299,
     "metadata": {},
     "output_type": "execute_result"
    },
    {
     "data": {
      "image/png": "[encoded data removed]",
      "text/plain": [
       "<Figure size 432x288 with 1 Axes>"
      ]
     },
     "metadata": {
      "needs_background": "light"
     },
     "output_type": "display_data"
    }
   ],
   "source": [
    "df3=df1.tolist()\n",
    "df3.extend(lst_output)\n",
    "plt.plot(df3[1331:])"
   ]
  },
  {
   "cell_type": "code",
   "execution_count": 300,
   "id": "cbcaa263",
   "metadata": {},
   "outputs": [],
   "source": [
    "df3=scaler.inverse_transform(df3).tolist()"
   ]
  },
  {
   "cell_type": "markdown",
   "id": "b2c0bd9d",
   "metadata": {},
   "source": [
    "## FOR FURTHER 30 DAYS PREDICTION"
   ]
  },
  {
   "cell_type": "code",
   "execution_count": 301,
   "id": "6f91abc9",
   "metadata": {},
   "outputs": [
    {
     "data": {
      "text/plain": [
       "[<matplotlib.lines.Line2D at 0x1dd9c62d1f0>]"
      ]
     },
     "execution_count": 301,
     "metadata": {},
     "output_type": "execute_result"
    },
    {
     "data": {
      "image/png": "[encoded data removed]",
      "text/plain": [
       "<Figure size 432x288 with 1 Axes>"
      ]
     },
     "metadata": {
      "needs_background": "light"
     },
     "output_type": "display_data"
    }
   ],
   "source": [
    "plt.plot(df3)"
   ]
  },
  {
   "cell_type": "code",
   "execution_count": null,
   "id": "c20021bb",
   "metadata": {},
   "outputs": [],
   "source": []
  },
  {
   "cell_type": "code",
   "execution_count": null,
   "id": "5ed7cea6",
   "metadata": {},
   "outputs": [],
   "source": []
  },
  {
   "cell_type": "code",
   "execution_count": null,
   "id": "2505fc8b",
   "metadata": {},
   "outputs": [],
   "source": []
  }
 ],
 "metadata": {
  "kernelspec": {
   "display_name": "Python 3 (ipykernel)",
   "language": "python",
   "name": "python3"
  },
  "language_info": {
   "codemirror_mode": {
    "name": "ipython",
    "version": 3
   },
   "file_extension": ".py",
   "mimetype": "text/x-python",
   "name": "python",
   "nbconvert_exporter": "python",
   "pygments_lexer": "ipython3",
   "version": "3.9.7"
  }
 },
 "nbformat": 4,
 "nbformat_minor": 5
}
